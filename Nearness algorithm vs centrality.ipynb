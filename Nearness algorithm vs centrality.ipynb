{
 "cells": [
  {
   "cell_type": "markdown",
   "id": "26d13794",
   "metadata": {},
   "source": [
    "# Nearness Algorithm\n"
   ]
  },
  {
   "cell_type": "code",
   "execution_count": 25,
   "id": "5b5d5b0a",
   "metadata": {},
   "outputs": [
    {
     "data": {
      "text/html": [
       "<div>\n",
       "<style scoped>\n",
       "    .dataframe tbody tr th:only-of-type {\n",
       "        vertical-align: middle;\n",
       "    }\n",
       "\n",
       "    .dataframe tbody tr th {\n",
       "        vertical-align: top;\n",
       "    }\n",
       "\n",
       "    .dataframe thead th {\n",
       "        text-align: right;\n",
       "    }\n",
       "</style>\n",
       "<table border=\"1\" class=\"dataframe\">\n",
       "  <thead>\n",
       "    <tr style=\"text-align: right;\">\n",
       "      <th></th>\n",
       "      <th>ID</th>\n",
       "      <th>Dynamic Filter</th>\n",
       "      <th>Relationship</th>\n",
       "      <th>Relationship Date (UTC)</th>\n",
       "      <th>Tweet</th>\n",
       "      <th>URLs in Tweet</th>\n",
       "      <th>Domains in Tweet</th>\n",
       "      <th>Hashtags in Tweet</th>\n",
       "      <th>Tweet Date (UTC)</th>\n",
       "      <th>Twitter Page for Tweet</th>\n",
       "      <th>Latitude</th>\n",
       "      <th>Longitude</th>\n",
       "      <th>Imported ID</th>\n",
       "      <th>In-Reply-To Tweet ID</th>\n",
       "    </tr>\n",
       "  </thead>\n",
       "  <tbody>\n",
       "    <tr>\n",
       "      <th>0</th>\n",
       "      <td>2</td>\n",
       "      <td>True</td>\n",
       "      <td>Mentions</td>\n",
       "      <td>31-08-2021 08:50</td>\n",
       "      <td>Hi @ILoveLakme ! Why have you discontinued you...</td>\n",
       "      <td>NaN</td>\n",
       "      <td>NaN</td>\n",
       "      <td>NaN</td>\n",
       "      <td>31-08-2021 08:50</td>\n",
       "      <td>https://twitter.com/#!/doc_roll20/status/14326...</td>\n",
       "      <td>NaN</td>\n",
       "      <td>NaN</td>\n",
       "      <td>1.430000e+18</td>\n",
       "      <td>NaN</td>\n",
       "    </tr>\n",
       "    <tr>\n",
       "      <th>1</th>\n",
       "      <td>6</td>\n",
       "      <td>True</td>\n",
       "      <td>Mentions</td>\n",
       "      <td>31-08-2021 15:30</td>\n",
       "      <td>@KareenaUpdates @ILoveLakme What are you start...</td>\n",
       "      <td>NaN</td>\n",
       "      <td>NaN</td>\n",
       "      <td>NaN</td>\n",
       "      <td>31-08-2021 15:30</td>\n",
       "      <td>https://twitter.com/#!/sadaqat26253486/status/...</td>\n",
       "      <td>NaN</td>\n",
       "      <td>NaN</td>\n",
       "      <td>1.430000e+18</td>\n",
       "      <td>1.430000e+18</td>\n",
       "    </tr>\n",
       "    <tr>\n",
       "      <th>2</th>\n",
       "      <td>6</td>\n",
       "      <td>True</td>\n",
       "      <td>Replies to</td>\n",
       "      <td>31-08-2021 15:30</td>\n",
       "      <td>@KareenaUpdates @ILoveLakme What are you start...</td>\n",
       "      <td>NaN</td>\n",
       "      <td>NaN</td>\n",
       "      <td>NaN</td>\n",
       "      <td>31-08-2021 15:30</td>\n",
       "      <td>https://twitter.com/#!/sadaqat26253486/status/...</td>\n",
       "      <td>NaN</td>\n",
       "      <td>NaN</td>\n",
       "      <td>1.430000e+18</td>\n",
       "      <td>1.430000e+18</td>\n",
       "    </tr>\n",
       "    <tr>\n",
       "      <th>3</th>\n",
       "      <td>7</td>\n",
       "      <td>True</td>\n",
       "      <td>Replies to</td>\n",
       "      <td>31-08-2021 17:26</td>\n",
       "      <td>@ILoveLakme \\n\\n I ordered 3 lipsticks under c...</td>\n",
       "      <td>https://twitter.com/i/web/status/1432756797102...</td>\n",
       "      <td>twitter.com</td>\n",
       "      <td>NaN</td>\n",
       "      <td>31-08-2021 17:26</td>\n",
       "      <td>https://twitter.com/#!/mkaur_k/status/14327567...</td>\n",
       "      <td>NaN</td>\n",
       "      <td>NaN</td>\n",
       "      <td>1.430000e+18</td>\n",
       "      <td>NaN</td>\n",
       "    </tr>\n",
       "    <tr>\n",
       "      <th>4</th>\n",
       "      <td>2</td>\n",
       "      <td>True</td>\n",
       "      <td>Mentions</td>\n",
       "      <td>01-09-2021 10:06</td>\n",
       "      <td>@KareenaK_FC @ILoveLakme Back to promoting Lak...</td>\n",
       "      <td>NaN</td>\n",
       "      <td>NaN</td>\n",
       "      <td>NaN</td>\n",
       "      <td>01-09-2021 10:06</td>\n",
       "      <td>https://twitter.com/#!/rameshjbhojwani/status/...</td>\n",
       "      <td>NaN</td>\n",
       "      <td>NaN</td>\n",
       "      <td>1.430000e+18</td>\n",
       "      <td>1.430000e+18</td>\n",
       "    </tr>\n",
       "  </tbody>\n",
       "</table>\n",
       "</div>"
      ],
      "text/plain": [
       "   ID  Dynamic Filter Relationship Relationship Date (UTC)  \\\n",
       "0   2            True     Mentions        31-08-2021 08:50   \n",
       "1   6            True     Mentions        31-08-2021 15:30   \n",
       "2   6            True   Replies to        31-08-2021 15:30   \n",
       "3   7            True   Replies to        31-08-2021 17:26   \n",
       "4   2            True     Mentions        01-09-2021 10:06   \n",
       "\n",
       "                                               Tweet  \\\n",
       "0  Hi @ILoveLakme ! Why have you discontinued you...   \n",
       "1  @KareenaUpdates @ILoveLakme What are you start...   \n",
       "2  @KareenaUpdates @ILoveLakme What are you start...   \n",
       "3  @ILoveLakme \\n\\n I ordered 3 lipsticks under c...   \n",
       "4  @KareenaK_FC @ILoveLakme Back to promoting Lak...   \n",
       "\n",
       "                                       URLs in Tweet Domains in Tweet  \\\n",
       "0                                                NaN              NaN   \n",
       "1                                                NaN              NaN   \n",
       "2                                                NaN              NaN   \n",
       "3  https://twitter.com/i/web/status/1432756797102...      twitter.com   \n",
       "4                                                NaN              NaN   \n",
       "\n",
       "  Hashtags in Tweet  Tweet Date (UTC)  \\\n",
       "0               NaN  31-08-2021 08:50   \n",
       "1               NaN  31-08-2021 15:30   \n",
       "2               NaN  31-08-2021 15:30   \n",
       "3               NaN  31-08-2021 17:26   \n",
       "4               NaN  01-09-2021 10:06   \n",
       "\n",
       "                              Twitter Page for Tweet  Latitude  Longitude  \\\n",
       "0  https://twitter.com/#!/doc_roll20/status/14326...       NaN        NaN   \n",
       "1  https://twitter.com/#!/sadaqat26253486/status/...       NaN        NaN   \n",
       "2  https://twitter.com/#!/sadaqat26253486/status/...       NaN        NaN   \n",
       "3  https://twitter.com/#!/mkaur_k/status/14327567...       NaN        NaN   \n",
       "4  https://twitter.com/#!/rameshjbhojwani/status/...       NaN        NaN   \n",
       "\n",
       "    Imported ID  In-Reply-To Tweet ID  \n",
       "0  1.430000e+18                   NaN  \n",
       "1  1.430000e+18          1.430000e+18  \n",
       "2  1.430000e+18          1.430000e+18  \n",
       "3  1.430000e+18                   NaN  \n",
       "4  1.430000e+18          1.430000e+18  "
      ]
     },
     "execution_count": 25,
     "metadata": {},
     "output_type": "execute_result"
    }
   ],
   "source": [
    "import pandas as pd\n",
    "df = pd.read_csv('C:/Users/Deepak Murugesan/Documents/jypyter notebook/Lakme.csv')\n",
    "df.head()"
   ]
  },
  {
   "cell_type": "code",
   "execution_count": 26,
   "id": "36061147",
   "metadata": {},
   "outputs": [],
   "source": [
    "import matplotlib.pyplot as plt\n",
    "import seaborn as sns\n",
    "%matplotlib inline"
   ]
  },
  {
   "cell_type": "code",
   "execution_count": 27,
   "id": "bc2902fd",
   "metadata": {},
   "outputs": [
    {
     "data": {
      "text/plain": [
       "ID                           0\n",
       "Dynamic Filter               0\n",
       "Relationship                 0\n",
       "Relationship Date (UTC)      0\n",
       "Tweet                        0\n",
       "URLs in Tweet              140\n",
       "Domains in Tweet           140\n",
       "Hashtags in Tweet           88\n",
       "Tweet Date (UTC)             0\n",
       "Twitter Page for Tweet       0\n",
       "Latitude                   191\n",
       "Longitude                  191\n",
       "Imported ID                  0\n",
       "In-Reply-To Tweet ID       132\n",
       "dtype: int64"
      ]
     },
     "execution_count": 27,
     "metadata": {},
     "output_type": "execute_result"
    }
   ],
   "source": [
    "df.isnull().sum()"
   ]
  },
  {
   "cell_type": "code",
   "execution_count": 28,
   "id": "ac7db34f",
   "metadata": {},
   "outputs": [
    {
     "data": {
      "text/plain": [
       "Index(['ID', 'Dynamic Filter', 'Relationship', 'Relationship Date (UTC)',\n",
       "       'Tweet', 'URLs in Tweet', 'Domains in Tweet', 'Hashtags in Tweet',\n",
       "       'Tweet Date (UTC)', 'Twitter Page for Tweet', 'Latitude', 'Longitude',\n",
       "       'Imported ID', 'In-Reply-To Tweet ID'],\n",
       "      dtype='object')"
      ]
     },
     "execution_count": 28,
     "metadata": {},
     "output_type": "execute_result"
    }
   ],
   "source": [
    "df.columns"
   ]
  },
  {
   "cell_type": "code",
   "execution_count": 29,
   "id": "1faa66fe",
   "metadata": {},
   "outputs": [
    {
     "data": {
      "text/plain": [
       "RT @KareenaK_FC: #KareenaKapoorKhan for @ILoveLakme ?? https://t.co/IWZzphHFgX                                                                         54\n",
       "RT @OBharali: #KareenaKapoorKhan 's new @ILoveLakme ad...??????\\nhttps://t.co/Kwx0XUrMeB                                                               12\n",
       "RT @LakmeFashionWk: The season finale of the #LFWPodcast sees Keshav Suri talk about creating spaces for the #Queer and about his own @Kitt�            6\n",
       "RT @MegaStarKareena: @ILoveLakme ad \\n\\n#KareenaKapoorKhan \\n\\nhttps://t.co/ftF5N6vvxQ                                                                  6\n",
       "RT @LakmeFashionWk: The stage was set with some innovative designs as #SobhitaDhulipala turned showstopper for @smartwaterind presents the�             6\n",
       "@LakmeFashionWk @reebokindia @ILoveLakme @NexaExperience @R1SEWorldwide https://t.co/ouX15fDGFu                                                         5\n",
       "@ArmyBrat_Hindu @P_M_2021 @LOrealParisUSA @ILoveLakme @Sephora ??? ?? ?? ??? ?? ?? ????                                                                 5\n",
       "RT @LakmeFashionWk: @parmeshs has guided many of the country�s leading companies on their inclusion journey; catch him in conversation with�            5\n",
       "RT @P_M_2021: @LOrealParisUSA @ILoveLakme\\n@Sephora\\nyou want another face for your brand???                                                            4\n",
       "@P_M_2021 @LOrealParisUSA @ILoveLakme @Sephora Lol \\n\\nAbey ??????                                                                                      4\n",
       "@VikramGiri_28 @DeepikaBhardwaj @ILoveLakme Mask pe bhai. Hont par nahi.                                                                                3\n",
       "@LOrealParisUSA @ILoveLakme\\n@Sephora\\nyou want another face for your brand??? https://t.co/Hke0h1dgf9                                                  3\n",
       "@lavnasura @DeepikaBhardwaj @ILoveLakme Lipstick nahi chipkegi fir                                                                                      3\n",
       "@VikramGiri_28 @DeepikaBhardwaj @ILoveLakme I try to make everone happy sir. Vo Mr. Jeeves ka chela hoon naa                                            3\n",
       "@lavnasura @DeepikaBhardwaj @ILoveLakme Ye kaun h                                                                                                       3\n",
       "@VikramGiri_28 @DeepikaBhardwaj @ILoveLakme I�m sure now they are thinking of a mask resistant one.                                                     3\n",
       "@lavnasura @DeepikaBhardwaj @ILoveLakme Kitne tejasvi log h ??                                                                                          3\n",
       "@VikramGiri_28 @DeepikaBhardwaj @ILoveLakme Vaise agar mask lagana hi hai to lipstick to dikhega nahi.. kyon lagana� https://t.co/3KjBLhy6ba            3\n",
       "@lavnasura @DeepikaBhardwaj @ILoveLakme Good idea ??                                                                                                    3\n",
       "RT @LakmeFashionWk: Catch some #LFWMoments that showcase this versatile piece in all its glory. \\n\\n@ILoveLakme @NexaExperience @R1SEWorldwid�          3\n",
       "@VikramGiri_28 @DeepikaBhardwaj @ILoveLakme Vo mask mein sarson teyl lagane kaa. Like we do for holi.                                                   3\n",
       "RT @LakmeFashionWk: Whether it�s a summer resort or winter festive fashion, these easy-breezy pieces have given the stage some striking #LF�            2\n",
       "@KareenaK_FC @ILoveLakme Really great... every indian  should love Lakme                                                                                2\n",
       "Catch some #LFWMoments that showcase this versatile piece in all its glory. \\n\\n@ILoveLakme @NexaExperience� https://t.co/9vTTxH4WZY                    2\n",
       "@KareenaK_FC @ILoveLakme Hi gooood job                                                                                                                  2\n",
       "@KareenaUpdates @ILoveLakme Finally the Queen??                                                                                                         2\n",
       "RT @LakmeFashionWk: She is dynamic, colorful and an inspiration. Catch @RoshiniKumar_93 in conversation with @nonitakalra on the season fin�            2\n",
       "RT @LakmeFashionWk: #Bodice X @reebokindia Sole Fury came together to showcase impressionable designs donned by influencers and indie stars�            2\n",
       "She is dynamic, colorful and an inspiration. Catch @RoshiniKumar_93 in conversation with @nonitakalra on the season� https://t.co/38MXMifsLr            2\n",
       "@KareenaUpdates @ILoveLakme What are you starting? Tell me first                                                                                        2\n",
       "@KareenaK_FC @ILoveLakme BEAUTIFUL                                                                                                                      2\n",
       "RT @LakmeFashionWk: Edgy silhouettes, unique textures and an eye for detail - @asakazingmei's collection took the runway by storm at #LFWSR�            2\n",
       "@KareenaK_FC @ILoveLakme Back to promoting Lakm�. Great .                                                                                               2\n",
       "@KareenaK_FC @ILoveLakme Hi, my Most Favorite and Most Beautiful, my daughter-like  Lakme Brand Queen, Charming Kar� https://t.co/ZjbOyuyOAT            2\n",
       "@DeepikaBhardwaj @ILoveLakme poor product ??                                                                                                            2\n",
       "@KareenaK_FC @ILoveLakme Beauty in the world                                                                                                            2\n",
       "RT @LakmeFashionWk: From inclusivity to creating safe spaces for the #Queer, the season finale of the #LFWPodcast is filled with insightful�            1\n",
       "#KareenaKapoorKhan 's new @ILoveLakme ad...??????\\nhttps://t.co/Kwx0XUrMeB                                                                              1\n",
       "@ILoveLakme Order #229548 received without the Travel edition box! https://t.co/phB5TpV6gN                                                              1\n",
       "@ILoveLakme #221313 I placed a order on 22nd of August till date no order received. After a failed attempt to reach� https://t.co/55beGZtZy0            1\n",
       "The season finale of the #LFWPodcast sees Keshav Suri talk about creating spaces for the #Queer and about his own� https://t.co/BcXscBe6av              1\n",
       "@ILoveLakme it seems like customer is least important to you...I am following up with lakme since last 4-5 days reg� https://t.co/Uu3U9hfkHP            1\n",
       "Sensual 2021 (187) - Izabelle Leite - Happy Sensual Birthday Night in Doha IZA ! Wherever you are, your Body is Bra� https://t.co/QfLTgJ2VXj            1\n",
       "Hi @ILoveLakme ! Why have you discontinued your MR1 Red Coat 9-5 matte lip colour ??!! ??                                                               1\n",
       "@ILoveLakme Where is my Order?\\nIf you can't deliver, atleast refund. No customer care!\\n#jagograhakjago https://t.co/AC3dJj1Y7q                        1\n",
       "#Bodice X @reebokindia Sole Fury came together to showcase impressionable designs donned by influencers and indie s� https://t.co/499HjBqw1q            1\n",
       "Whether it�s a summer resort or winter festive fashion, these easy-breezy pieces have given the stage some striking� https://t.co/t1gMYk7JX3            1\n",
       "?????? ?? ?? ???? ?? #????? ?? \\n\\n?????,#????? ?? ????,#??????? \\n\\n?? ??? #????_??????? ???? ???!????\\n\\n         ??????� https://t.co/tK270iyPXm     1\n",
       "On the season finale of the #LFWPodcast, host @nonitakarla talks to @RoshniKumar_93, @parmeshs &amp; #KeshavSuri about� https://t.co/VHV9nPQ8UL         1\n",
       "The stage was set with some innovative designs as #SobhitaDhulipala turned showstopper for @smartwaterind presents� https://t.co/AK7esyUiPz             1\n",
       "@ILoveLakme \\n\\n I ordered 3 lipsticks under combo offer Lakme 9 to 5 Primer + Matte Lip colour at ?1000. At the time� https://t.co/jAMsQJ6Gqz          1\n",
       "#KareenaKapoorKhan for @ILoveLakme ?? https://t.co/IWZzphHFgX                                                                                           1\n",
       "@ILoveLakme I purchased a lipstick Lakm� Absolute Matte Melt Liquid Lip Color pink poison.  Absolutely poor quality� https://t.co/ao6l9f2S4q            1\n",
       "From inclusivity to creating safe spaces for the #Queer, the season finale of the #LFWPodcast is filled with insigh� https://t.co/Pj70u3RA8V            1\n",
       "How much fragrance can @ILoveLakme load in its basic  #sunscreen . Answer: To the point of giving it's customers a� https://t.co/kSVUBeM6KB             1\n",
       "@ILoveLakme ad \\n\\n#KareenaKapoorKhan \\n\\nhttps://t.co/ftF5N6vvxQ                                                                                       1\n",
       "@parmeshs has guided many of the country�s leading companies on their inclusion journey; catch him in conversation� https://t.co/sgMv0Yt2d1             1\n",
       "Name: Tweet, dtype: int64"
      ]
     },
     "execution_count": 29,
     "metadata": {},
     "output_type": "execute_result"
    }
   ],
   "source": [
    "df['Tweet'].value_counts()"
   ]
  },
  {
   "cell_type": "code",
   "execution_count": 32,
   "id": "19637994",
   "metadata": {},
   "outputs": [
    {
     "name": "stderr",
     "output_type": "stream",
     "text": [
      "C:\\Users\\Deepak Murugesan\\anaconda3\\lib\\site-packages\\seaborn\\_decorators.py:36: FutureWarning: Pass the following variable as a keyword arg: x. From version 0.12, the only valid positional argument will be `data`, and passing other arguments without an explicit keyword will result in an error or misinterpretation.\n",
      "  warnings.warn(\n"
     ]
    },
    {
     "data": {
      "text/plain": [
       "<AxesSubplot:xlabel='Hashtags in Tweet', ylabel='count'>"
      ]
     },
     "execution_count": 32,
     "metadata": {},
     "output_type": "execute_result"
    },
    {
     "data": {
      "image/png": "[encoded data removed]",
      "text/plain": [
       "<Figure size 720x360 with 1 Axes>"
      ]
     },
     "metadata": {},
     "output_type": "display_data"
    }
   ],
   "source": [
    "sns.set_style(\"whitegrid\")\n",
    "plt.figure(figsize=(10,5))\n",
    "sns.countplot(df['Hashtags in Tweet'])"
   ]
  },
  {
   "cell_type": "code",
   "execution_count": 33,
   "id": "a18bf9fa",
   "metadata": {},
   "outputs": [],
   "source": [
    "from sklearn.preprocessing import LabelEncoder\n",
    "scaler=LabelEncoder()\n",
    "df['Hashtags in Tweet']=scaler.fit_transform(df['Hashtags in Tweet'])"
   ]
  },
  {
   "cell_type": "code",
   "execution_count": 34,
   "id": "b83824c0",
   "metadata": {},
   "outputs": [
    {
     "data": {
      "text/plain": [
       "10    88\n",
       "3     75\n",
       "6      7\n",
       "8      7\n",
       "4      5\n",
       "1      3\n",
       "7      2\n",
       "0      1\n",
       "2      1\n",
       "5      1\n",
       "9      1\n",
       "Name: Hashtags in Tweet, dtype: int64"
      ]
     },
     "execution_count": 34,
     "metadata": {},
     "output_type": "execute_result"
    }
   ],
   "source": [
    "df['Hashtags in Tweet'].value_counts()"
   ]
  },
  {
   "cell_type": "code",
   "execution_count": 35,
   "id": "0db2bfab",
   "metadata": {},
   "outputs": [
    {
     "data": {
      "text/plain": [
       "Index(['ID', 'Dynamic Filter', 'Relationship', 'Relationship Date (UTC)',\n",
       "       'Tweet', 'URLs in Tweet', 'Domains in Tweet', 'Hashtags in Tweet',\n",
       "       'Tweet Date (UTC)', 'Twitter Page for Tweet', 'Latitude', 'Longitude',\n",
       "       'Imported ID', 'In-Reply-To Tweet ID'],\n",
       "      dtype='object')"
      ]
     },
     "execution_count": 35,
     "metadata": {},
     "output_type": "execute_result"
    }
   ],
   "source": [
    "df.columns"
   ]
  },
  {
   "cell_type": "code",
   "execution_count": 36,
   "id": "adde044e",
   "metadata": {},
   "outputs": [
    {
     "data": {
      "text/plain": [
       "0    https://twitter.com/#!/doc_roll20/status/14326...\n",
       "1    https://twitter.com/#!/sadaqat26253486/status/...\n",
       "2    https://twitter.com/#!/sadaqat26253486/status/...\n",
       "3    https://twitter.com/#!/mkaur_k/status/14327567...\n",
       "4    https://twitter.com/#!/rameshjbhojwani/status/...\n",
       "Name: Twitter Page for Tweet, dtype: object"
      ]
     },
     "execution_count": 36,
     "metadata": {},
     "output_type": "execute_result"
    }
   ],
   "source": [
    "df['Twitter Page for Tweet'][:5]"
   ]
  },
  {
   "cell_type": "code",
   "execution_count": 37,
   "id": "10807828",
   "metadata": {},
   "outputs": [
    {
     "data": {
      "text/plain": [
       "(191, 14)"
      ]
     },
     "execution_count": 37,
     "metadata": {},
     "output_type": "execute_result"
    }
   ],
   "source": [
    "df.shape"
   ]
  },
  {
   "cell_type": "code",
   "execution_count": 38,
   "id": "2459dabe",
   "metadata": {},
   "outputs": [],
   "source": [
    "message=df.copy()"
   ]
  },
  {
   "cell_type": "code",
   "execution_count": 39,
   "id": "758aabfd",
   "metadata": {},
   "outputs": [
    {
     "data": {
      "text/html": [
       "<div>\n",
       "<style scoped>\n",
       "    .dataframe tbody tr th:only-of-type {\n",
       "        vertical-align: middle;\n",
       "    }\n",
       "\n",
       "    .dataframe tbody tr th {\n",
       "        vertical-align: top;\n",
       "    }\n",
       "\n",
       "    .dataframe thead th {\n",
       "        text-align: right;\n",
       "    }\n",
       "</style>\n",
       "<table border=\"1\" class=\"dataframe\">\n",
       "  <thead>\n",
       "    <tr style=\"text-align: right;\">\n",
       "      <th></th>\n",
       "      <th>ID</th>\n",
       "      <th>Dynamic Filter</th>\n",
       "      <th>Relationship</th>\n",
       "      <th>Relationship Date (UTC)</th>\n",
       "      <th>Tweet</th>\n",
       "      <th>URLs in Tweet</th>\n",
       "      <th>Domains in Tweet</th>\n",
       "      <th>Hashtags in Tweet</th>\n",
       "      <th>Tweet Date (UTC)</th>\n",
       "      <th>Twitter Page for Tweet</th>\n",
       "      <th>Latitude</th>\n",
       "      <th>Longitude</th>\n",
       "      <th>Imported ID</th>\n",
       "      <th>In-Reply-To Tweet ID</th>\n",
       "    </tr>\n",
       "  </thead>\n",
       "  <tbody>\n",
       "    <tr>\n",
       "      <th>0</th>\n",
       "      <td>2</td>\n",
       "      <td>True</td>\n",
       "      <td>Mentions</td>\n",
       "      <td>31-08-2021 08:50</td>\n",
       "      <td>Hi @ILoveLakme ! Why have you discontinued you...</td>\n",
       "      <td>NaN</td>\n",
       "      <td>NaN</td>\n",
       "      <td>10</td>\n",
       "      <td>31-08-2021 08:50</td>\n",
       "      <td>https://twitter.com/#!/doc_roll20/status/14326...</td>\n",
       "      <td>NaN</td>\n",
       "      <td>NaN</td>\n",
       "      <td>1.430000e+18</td>\n",
       "      <td>NaN</td>\n",
       "    </tr>\n",
       "    <tr>\n",
       "      <th>1</th>\n",
       "      <td>6</td>\n",
       "      <td>True</td>\n",
       "      <td>Mentions</td>\n",
       "      <td>31-08-2021 15:30</td>\n",
       "      <td>@KareenaUpdates @ILoveLakme What are you start...</td>\n",
       "      <td>NaN</td>\n",
       "      <td>NaN</td>\n",
       "      <td>10</td>\n",
       "      <td>31-08-2021 15:30</td>\n",
       "      <td>https://twitter.com/#!/sadaqat26253486/status/...</td>\n",
       "      <td>NaN</td>\n",
       "      <td>NaN</td>\n",
       "      <td>1.430000e+18</td>\n",
       "      <td>1.430000e+18</td>\n",
       "    </tr>\n",
       "    <tr>\n",
       "      <th>2</th>\n",
       "      <td>6</td>\n",
       "      <td>True</td>\n",
       "      <td>Replies to</td>\n",
       "      <td>31-08-2021 15:30</td>\n",
       "      <td>@KareenaUpdates @ILoveLakme What are you start...</td>\n",
       "      <td>NaN</td>\n",
       "      <td>NaN</td>\n",
       "      <td>10</td>\n",
       "      <td>31-08-2021 15:30</td>\n",
       "      <td>https://twitter.com/#!/sadaqat26253486/status/...</td>\n",
       "      <td>NaN</td>\n",
       "      <td>NaN</td>\n",
       "      <td>1.430000e+18</td>\n",
       "      <td>1.430000e+18</td>\n",
       "    </tr>\n",
       "    <tr>\n",
       "      <th>3</th>\n",
       "      <td>7</td>\n",
       "      <td>True</td>\n",
       "      <td>Replies to</td>\n",
       "      <td>31-08-2021 17:26</td>\n",
       "      <td>@ILoveLakme \\n\\n I ordered 3 lipsticks under c...</td>\n",
       "      <td>https://twitter.com/i/web/status/1432756797102...</td>\n",
       "      <td>twitter.com</td>\n",
       "      <td>10</td>\n",
       "      <td>31-08-2021 17:26</td>\n",
       "      <td>https://twitter.com/#!/mkaur_k/status/14327567...</td>\n",
       "      <td>NaN</td>\n",
       "      <td>NaN</td>\n",
       "      <td>1.430000e+18</td>\n",
       "      <td>NaN</td>\n",
       "    </tr>\n",
       "    <tr>\n",
       "      <th>4</th>\n",
       "      <td>2</td>\n",
       "      <td>True</td>\n",
       "      <td>Mentions</td>\n",
       "      <td>01-09-2021 10:06</td>\n",
       "      <td>@KareenaK_FC @ILoveLakme Back to promoting Lak...</td>\n",
       "      <td>NaN</td>\n",
       "      <td>NaN</td>\n",
       "      <td>10</td>\n",
       "      <td>01-09-2021 10:06</td>\n",
       "      <td>https://twitter.com/#!/rameshjbhojwani/status/...</td>\n",
       "      <td>NaN</td>\n",
       "      <td>NaN</td>\n",
       "      <td>1.430000e+18</td>\n",
       "      <td>1.430000e+18</td>\n",
       "    </tr>\n",
       "  </tbody>\n",
       "</table>\n",
       "</div>"
      ],
      "text/plain": [
       "   ID  Dynamic Filter Relationship Relationship Date (UTC)  \\\n",
       "0   2            True     Mentions        31-08-2021 08:50   \n",
       "1   6            True     Mentions        31-08-2021 15:30   \n",
       "2   6            True   Replies to        31-08-2021 15:30   \n",
       "3   7            True   Replies to        31-08-2021 17:26   \n",
       "4   2            True     Mentions        01-09-2021 10:06   \n",
       "\n",
       "                                               Tweet  \\\n",
       "0  Hi @ILoveLakme ! Why have you discontinued you...   \n",
       "1  @KareenaUpdates @ILoveLakme What are you start...   \n",
       "2  @KareenaUpdates @ILoveLakme What are you start...   \n",
       "3  @ILoveLakme \\n\\n I ordered 3 lipsticks under c...   \n",
       "4  @KareenaK_FC @ILoveLakme Back to promoting Lak...   \n",
       "\n",
       "                                       URLs in Tweet Domains in Tweet  \\\n",
       "0                                                NaN              NaN   \n",
       "1                                                NaN              NaN   \n",
       "2                                                NaN              NaN   \n",
       "3  https://twitter.com/i/web/status/1432756797102...      twitter.com   \n",
       "4                                                NaN              NaN   \n",
       "\n",
       "   Hashtags in Tweet  Tweet Date (UTC)  \\\n",
       "0                 10  31-08-2021 08:50   \n",
       "1                 10  31-08-2021 15:30   \n",
       "2                 10  31-08-2021 15:30   \n",
       "3                 10  31-08-2021 17:26   \n",
       "4                 10  01-09-2021 10:06   \n",
       "\n",
       "                              Twitter Page for Tweet  Latitude  Longitude  \\\n",
       "0  https://twitter.com/#!/doc_roll20/status/14326...       NaN        NaN   \n",
       "1  https://twitter.com/#!/sadaqat26253486/status/...       NaN        NaN   \n",
       "2  https://twitter.com/#!/sadaqat26253486/status/...       NaN        NaN   \n",
       "3  https://twitter.com/#!/mkaur_k/status/14327567...       NaN        NaN   \n",
       "4  https://twitter.com/#!/rameshjbhojwani/status/...       NaN        NaN   \n",
       "\n",
       "    Imported ID  In-Reply-To Tweet ID  \n",
       "0  1.430000e+18                   NaN  \n",
       "1  1.430000e+18          1.430000e+18  \n",
       "2  1.430000e+18          1.430000e+18  \n",
       "3  1.430000e+18                   NaN  \n",
       "4  1.430000e+18          1.430000e+18  "
      ]
     },
     "execution_count": 39,
     "metadata": {},
     "output_type": "execute_result"
    }
   ],
   "source": [
    "message.head(5)"
   ]
  },
  {
   "cell_type": "code",
   "execution_count": 40,
   "id": "9b9e437e",
   "metadata": {},
   "outputs": [
    {
     "data": {
      "text/plain": [
       "ID                           0\n",
       "Dynamic Filter               0\n",
       "Relationship                 0\n",
       "Relationship Date (UTC)      0\n",
       "Tweet                        0\n",
       "URLs in Tweet              140\n",
       "Domains in Tweet           140\n",
       "Hashtags in Tweet            0\n",
       "Tweet Date (UTC)             0\n",
       "Twitter Page for Tweet       0\n",
       "Latitude                   191\n",
       "Longitude                  191\n",
       "Imported ID                  0\n",
       "In-Reply-To Tweet ID       132\n",
       "dtype: int64"
      ]
     },
     "execution_count": 40,
     "metadata": {},
     "output_type": "execute_result"
    }
   ],
   "source": [
    "message.isnull().sum()"
   ]
  },
  {
   "cell_type": "code",
   "execution_count": 41,
   "id": "0231834f",
   "metadata": {
    "scrolled": true
   },
   "outputs": [
    {
     "data": {
      "text/plain": [
       "0    https://twitter.com/#!/doc_roll20/status/14326...\n",
       "1    https://twitter.com/#!/sadaqat26253486/status/...\n",
       "2    https://twitter.com/#!/sadaqat26253486/status/...\n",
       "3    https://twitter.com/#!/mkaur_k/status/14327567...\n",
       "4    https://twitter.com/#!/rameshjbhojwani/status/...\n",
       "Name: Twitter Page for Tweet, dtype: object"
      ]
     },
     "execution_count": 41,
     "metadata": {},
     "output_type": "execute_result"
    }
   ],
   "source": [
    "y=df['Twitter Page for Tweet']\n",
    "y[:5]"
   ]
  },
  {
   "cell_type": "code",
   "execution_count": 42,
   "id": "d9cfd691",
   "metadata": {},
   "outputs": [
    {
     "name": "stderr",
     "output_type": "stream",
     "text": [
      "<__array_function__ internals>:5: RuntimeWarning: Converting input from bool to <class 'numpy.uint8'> for compatibility.\n",
      "<__array_function__ internals>:5: RuntimeWarning: Converting input from bool to <class 'numpy.uint8'> for compatibility.\n"
     ]
    },
    {
     "data": {
      "text/plain": [
       "<seaborn.axisgrid.PairGrid at 0x1991a196970>"
      ]
     },
     "execution_count": 42,
     "metadata": {},
     "output_type": "execute_result"
    },
    {
     "data": {
      "image/png": "[encoded data removed]",
      "text/plain": [
       "<Figure size 1260x1260 with 56 Axes>"
      ]
     },
     "metadata": {},
     "output_type": "display_data"
    }
   ],
   "source": [
    "sns.pairplot(df)"
   ]
  },
  {
   "cell_type": "code",
   "execution_count": 43,
   "id": "edf79d89",
   "metadata": {},
   "outputs": [],
   "source": [
    "y_true = [1, 900, 2, 1, 1]\n",
    "y_pred = [1, 1, 5, 1, 1]"
   ]
  },
  {
   "cell_type": "code",
   "execution_count": 44,
   "id": "49aeb10a",
   "metadata": {},
   "outputs": [
    {
     "name": "stdout",
     "output_type": "stream",
     "text": [
      "Automatically created module for IPython interactive environment\n",
      "Confusion matrix, without normalization\n",
      "[[13  0  0]\n",
      " [ 0 10  6]\n",
      " [ 0  0  9]]\n",
      "Normalized confusion matrix\n",
      "[[1.   0.   0.  ]\n",
      " [0.   0.62 0.38]\n",
      " [0.   0.   1.  ]]\n"
     ]
    },
    {
     "data": {
      "image/png": "[encoded data removed]",
      "text/plain": [
       "<Figure size 432x288 with 2 Axes>"
      ]
     },
     "metadata": {},
     "output_type": "display_data"
    },
    {
     "data": {
      "image/png": "[encoded data removed]",
      "text/plain": [
       "<Figure size 432x288 with 2 Axes>"
      ]
     },
     "metadata": {},
     "output_type": "display_data"
    }
   ],
   "source": [
    "print(__doc__)\n",
    "\n",
    "import numpy as np\n",
    "import matplotlib.pyplot as plt\n",
    "\n",
    "from sklearn import svm, datasets\n",
    "from sklearn.model_selection import train_test_split\n",
    "from sklearn.metrics import plot_confusion_matrix\n",
    "\n",
    "iris = datasets.load_iris()\n",
    "X = iris.data\n",
    "y = iris.target\n",
    "class_names = iris.target_names\n",
    "\n",
    "X_train, X_test, y_train, y_test = train_test_split(X, y, random_state=0)\n",
    "\n",
    "classifier = svm.SVC(kernel='linear', C=0.01).fit(X_train, y_train)\n",
    "\n",
    "np.set_printoptions(precision=2)\n",
    "\n",
    "titles_options = [(\"Confusion matrix, without normalization\", None),\n",
    "                  (\"Normalized confusion matrix\", 'true')]\n",
    "for title, normalize in titles_options:\n",
    "    disp = plot_confusion_matrix(classifier, X_test, y_test,\n",
    "                                 display_labels=class_names,\n",
    "                                 cmap=plt.cm.Blues,\n",
    "                                 normalize=normalize)\n",
    "    disp.ax_.set_title(title)\n",
    "\n",
    "    print(title)\n",
    "    print(disp.confusion_matrix)\n",
    "\n",
    "plt.show()"
   ]
  },
  {
   "cell_type": "code",
   "execution_count": 1,
   "id": "d2e47dd7",
   "metadata": {
    "scrolled": true
   },
   "outputs": [
    {
     "name": "stdout",
     "output_type": "stream",
     "text": [
      "[1 0 2 1 1 0 1 2 2 1 2 0 0 0 0 1 2 1 1 2 0 2 0 2 2 2 2 2 0 0]\n"
     ]
    }
   ],
   "source": [
    "from sklearn.neighbors import KNeighborsClassifier\n",
    "from sklearn.model_selection import train_test_split\n",
    "from sklearn.datasets import load_iris\n",
    "\n",
    "irisData = load_iris()\n",
    "\n",
    "X = irisData.data\n",
    "y = irisData.target\n",
    "\n",
    "X_train, X_test, y_train, y_test = train_test_split(\n",
    "\t\t\tX, y, test_size = 0.2, random_state=42)\n",
    "\n",
    "knn = KNeighborsClassifier(n_neighbors=7)\n",
    "\n",
    "knn.fit(X_train, y_train)\n",
    "\n",
    "print(knn.predict(X_test))\n"
   ]
  },
  {
   "cell_type": "code",
   "execution_count": 17,
   "id": "0312241b",
   "metadata": {},
   "outputs": [
    {
     "name": "stdout",
     "output_type": "stream",
     "text": [
      "0.9619047619047619\n"
     ]
    }
   ],
   "source": [
    "from sklearn.datasets import make_classification\n",
    "from sklearn.model_selection import train_test_split\n",
    "from sklearn.metrics import accuracy_score\n",
    "from sklearn.linear_model import Nearness\n",
    "nb_samples = 1050\n",
    "x, y = make_classification(n_samples=nb_samples, n_features=2, n_informative=2, n_redundant=0, n_clusters_per_class=1)\n",
    "xtrain, xtest, ytrain, ytest = train_test_split(x, y, test_size=0.2, random_state=32)\n",
    "model = Nearness()\n",
    "model.fit(xtrain, ytrain)\n",
    "print(accuracy_score(ytest, model.predict(xtest)))\n"
   ]
  },
  {
   "cell_type": "code",
   "execution_count": 4,
   "id": "d4a9a318",
   "metadata": {},
   "outputs": [
    {
     "name": "stdout",
     "output_type": "stream",
     "text": [
      "0.9455445544554455\n"
     ]
    }
   ],
   "source": [
    "from sklearn.datasets import make_classification\n",
    "from sklearn.model_selection import train_test_split\n",
    "from sklearn.metrics import accuracy_score\n",
    "from sklearn.linear_model import Centality\n",
    "nb_samples = 1007\n",
    "x, y = make_classification(n_samples=nb_samples, n_features=2, n_informative=2, n_redundant=0, n_clusters_per_class=1)\n",
    "xtrain, xtest, ytrain, ytest = train_test_split(x, y, test_size=0.2, random_state=32)\n",
    "model = Centrality()\n",
    "model.fit(xtrain, ytrain)\n",
    "print(accuracy_score(ytest, model.predict(xtest)))"
   ]
  },
  {
   "cell_type": "code",
   "execution_count": null,
   "id": "1a924ce1",
   "metadata": {},
   "outputs": [],
   "source": []
  }
 ],
 "metadata": {
  "kernelspec": {
   "display_name": "Python 3",
   "language": "python",
   "name": "python3"
  },
  "language_info": {
   "codemirror_mode": {
    "name": "ipython",
    "version": 3
   },
   "file_extension": ".py",
   "mimetype": "text/x-python",
   "name": "python",
   "nbconvert_exporter": "python",
   "pygments_lexer": "ipython3",
   "version": "3.8.8"
  }
 },
 "nbformat": 4,
 "nbformat_minor": 5
}
