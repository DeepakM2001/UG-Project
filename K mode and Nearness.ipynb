{
 "cells": [
  {
   "cell_type": "markdown",
   "id": "77392e0e",
   "metadata": {},
   "source": [
    "# K mode Algorithm"
   ]
  },
  {
   "cell_type": "code",
   "execution_count": 6,
   "id": "881e9fdb",
   "metadata": {},
   "outputs": [
    {
     "data": {
      "text/html": [
       "<div>\n",
       "<style scoped>\n",
       "    .dataframe tbody tr th:only-of-type {\n",
       "        vertical-align: middle;\n",
       "    }\n",
       "\n",
       "    .dataframe tbody tr th {\n",
       "        vertical-align: top;\n",
       "    }\n",
       "\n",
       "    .dataframe thead th {\n",
       "        text-align: right;\n",
       "    }\n",
       "</style>\n",
       "<table border=\"1\" class=\"dataframe\">\n",
       "  <thead>\n",
       "    <tr style=\"text-align: right;\">\n",
       "      <th></th>\n",
       "      <th>ID</th>\n",
       "      <th>Dynamic Filter</th>\n",
       "      <th>Relationship</th>\n",
       "      <th>Relationship Date (UTC)</th>\n",
       "      <th>Tweet</th>\n",
       "      <th>URLs in Tweet</th>\n",
       "      <th>Domains in Tweet</th>\n",
       "      <th>Hashtags in Tweet</th>\n",
       "      <th>Tweet Date (UTC)</th>\n",
       "      <th>Twitter Page for Tweet</th>\n",
       "      <th>Latitude</th>\n",
       "      <th>Longitude</th>\n",
       "      <th>Imported ID</th>\n",
       "      <th>In-Reply-To Tweet ID</th>\n",
       "    </tr>\n",
       "  </thead>\n",
       "  <tbody>\n",
       "    <tr>\n",
       "      <th>0</th>\n",
       "      <td>2</td>\n",
       "      <td>True</td>\n",
       "      <td>Mentions</td>\n",
       "      <td>31-08-2021 08:50</td>\n",
       "      <td>Hi @ILoveLakme ! Why have you discontinued you...</td>\n",
       "      <td>NaN</td>\n",
       "      <td>NaN</td>\n",
       "      <td>NaN</td>\n",
       "      <td>31-08-2021 08:50</td>\n",
       "      <td>https://twitter.com/#!/doc_roll20/status/14326...</td>\n",
       "      <td>NaN</td>\n",
       "      <td>NaN</td>\n",
       "      <td>1.430000e+18</td>\n",
       "      <td>NaN</td>\n",
       "    </tr>\n",
       "    <tr>\n",
       "      <th>1</th>\n",
       "      <td>6</td>\n",
       "      <td>True</td>\n",
       "      <td>Mentions</td>\n",
       "      <td>31-08-2021 15:30</td>\n",
       "      <td>@KareenaUpdates @ILoveLakme What are you start...</td>\n",
       "      <td>NaN</td>\n",
       "      <td>NaN</td>\n",
       "      <td>NaN</td>\n",
       "      <td>31-08-2021 15:30</td>\n",
       "      <td>https://twitter.com/#!/sadaqat26253486/status/...</td>\n",
       "      <td>NaN</td>\n",
       "      <td>NaN</td>\n",
       "      <td>1.430000e+18</td>\n",
       "      <td>1.430000e+18</td>\n",
       "    </tr>\n",
       "    <tr>\n",
       "      <th>2</th>\n",
       "      <td>6</td>\n",
       "      <td>True</td>\n",
       "      <td>Replies to</td>\n",
       "      <td>31-08-2021 15:30</td>\n",
       "      <td>@KareenaUpdates @ILoveLakme What are you start...</td>\n",
       "      <td>NaN</td>\n",
       "      <td>NaN</td>\n",
       "      <td>NaN</td>\n",
       "      <td>31-08-2021 15:30</td>\n",
       "      <td>https://twitter.com/#!/sadaqat26253486/status/...</td>\n",
       "      <td>NaN</td>\n",
       "      <td>NaN</td>\n",
       "      <td>1.430000e+18</td>\n",
       "      <td>1.430000e+18</td>\n",
       "    </tr>\n",
       "    <tr>\n",
       "      <th>3</th>\n",
       "      <td>7</td>\n",
       "      <td>True</td>\n",
       "      <td>Replies to</td>\n",
       "      <td>31-08-2021 17:26</td>\n",
       "      <td>@ILoveLakme \\n\\n I ordered 3 lipsticks under c...</td>\n",
       "      <td>https://twitter.com/i/web/status/1432756797102...</td>\n",
       "      <td>twitter.com</td>\n",
       "      <td>NaN</td>\n",
       "      <td>31-08-2021 17:26</td>\n",
       "      <td>https://twitter.com/#!/mkaur_k/status/14327567...</td>\n",
       "      <td>NaN</td>\n",
       "      <td>NaN</td>\n",
       "      <td>1.430000e+18</td>\n",
       "      <td>NaN</td>\n",
       "    </tr>\n",
       "    <tr>\n",
       "      <th>4</th>\n",
       "      <td>2</td>\n",
       "      <td>True</td>\n",
       "      <td>Mentions</td>\n",
       "      <td>01-09-2021 10:06</td>\n",
       "      <td>@KareenaK_FC @ILoveLakme Back to promoting Lak...</td>\n",
       "      <td>NaN</td>\n",
       "      <td>NaN</td>\n",
       "      <td>NaN</td>\n",
       "      <td>01-09-2021 10:06</td>\n",
       "      <td>https://twitter.com/#!/rameshjbhojwani/status/...</td>\n",
       "      <td>NaN</td>\n",
       "      <td>NaN</td>\n",
       "      <td>1.430000e+18</td>\n",
       "      <td>1.430000e+18</td>\n",
       "    </tr>\n",
       "  </tbody>\n",
       "</table>\n",
       "</div>"
      ],
      "text/plain": [
       "   ID  Dynamic Filter Relationship Relationship Date (UTC)  \\\n",
       "0   2            True     Mentions        31-08-2021 08:50   \n",
       "1   6            True     Mentions        31-08-2021 15:30   \n",
       "2   6            True   Replies to        31-08-2021 15:30   \n",
       "3   7            True   Replies to        31-08-2021 17:26   \n",
       "4   2            True     Mentions        01-09-2021 10:06   \n",
       "\n",
       "                                               Tweet  \\\n",
       "0  Hi @ILoveLakme ! Why have you discontinued you...   \n",
       "1  @KareenaUpdates @ILoveLakme What are you start...   \n",
       "2  @KareenaUpdates @ILoveLakme What are you start...   \n",
       "3  @ILoveLakme \\n\\n I ordered 3 lipsticks under c...   \n",
       "4  @KareenaK_FC @ILoveLakme Back to promoting Lak...   \n",
       "\n",
       "                                       URLs in Tweet Domains in Tweet  \\\n",
       "0                                                NaN              NaN   \n",
       "1                                                NaN              NaN   \n",
       "2                                                NaN              NaN   \n",
       "3  https://twitter.com/i/web/status/1432756797102...      twitter.com   \n",
       "4                                                NaN              NaN   \n",
       "\n",
       "  Hashtags in Tweet  Tweet Date (UTC)  \\\n",
       "0               NaN  31-08-2021 08:50   \n",
       "1               NaN  31-08-2021 15:30   \n",
       "2               NaN  31-08-2021 15:30   \n",
       "3               NaN  31-08-2021 17:26   \n",
       "4               NaN  01-09-2021 10:06   \n",
       "\n",
       "                              Twitter Page for Tweet  Latitude  Longitude  \\\n",
       "0  https://twitter.com/#!/doc_roll20/status/14326...       NaN        NaN   \n",
       "1  https://twitter.com/#!/sadaqat26253486/status/...       NaN        NaN   \n",
       "2  https://twitter.com/#!/sadaqat26253486/status/...       NaN        NaN   \n",
       "3  https://twitter.com/#!/mkaur_k/status/14327567...       NaN        NaN   \n",
       "4  https://twitter.com/#!/rameshjbhojwani/status/...       NaN        NaN   \n",
       "\n",
       "    Imported ID  In-Reply-To Tweet ID  \n",
       "0  1.430000e+18                   NaN  \n",
       "1  1.430000e+18          1.430000e+18  \n",
       "2  1.430000e+18          1.430000e+18  \n",
       "3  1.430000e+18                   NaN  \n",
       "4  1.430000e+18          1.430000e+18  "
      ]
     },
     "execution_count": 6,
     "metadata": {},
     "output_type": "execute_result"
    }
   ],
   "source": [
    "import pandas as pd\n",
    "df = pd.read_csv('C:/Users/Deepak Murugesan/Documents/jypyter notebook/Lakme.csv')\n",
    "df.head()"
   ]
  },
  {
   "cell_type": "code",
   "execution_count": 2,
   "id": "4fb3caa9",
   "metadata": {},
   "outputs": [],
   "source": [
    "import matplotlib.pyplot as plt\n",
    "import seaborn as sns\n",
    "%matplotlib inline"
   ]
  },
  {
   "cell_type": "code",
   "execution_count": 3,
   "id": "50403531",
   "metadata": {},
   "outputs": [
    {
     "data": {
      "text/plain": [
       "Tweet Id                      0\n",
       "Tweet URL                     0\n",
       "Tweet Posted Time             0\n",
       "Tweet Content                 0\n",
       "Tweet Type                    0\n",
       "Client                        0\n",
       "Retweets Received             0\n",
       "Likes Received                0\n",
       "Tweet Location                9\n",
       "Tweet Language                0\n",
       "User Id                       0\n",
       "Name                          0\n",
       "Username                      0\n",
       "User Bio                      0\n",
       "Verified or Non-Verified      0\n",
       "Profile URL                   0\n",
       "User Followers                0\n",
       "User Following                0\n",
       "User Account Creation Date    0\n",
       "dtype: int64"
      ]
     },
     "execution_count": 3,
     "metadata": {},
     "output_type": "execute_result"
    }
   ],
   "source": [
    "df.isnull().sum()"
   ]
  },
  {
   "cell_type": "code",
   "execution_count": 4,
   "id": "b0d8c992",
   "metadata": {},
   "outputs": [
    {
     "data": {
      "text/html": [
       "<div>\n",
       "<style scoped>\n",
       "    .dataframe tbody tr th:only-of-type {\n",
       "        vertical-align: middle;\n",
       "    }\n",
       "\n",
       "    .dataframe tbody tr th {\n",
       "        vertical-align: top;\n",
       "    }\n",
       "\n",
       "    .dataframe thead th {\n",
       "        text-align: right;\n",
       "    }\n",
       "</style>\n",
       "<table border=\"1\" class=\"dataframe\">\n",
       "  <thead>\n",
       "    <tr style=\"text-align: right;\">\n",
       "      <th></th>\n",
       "      <th>Tweet Id</th>\n",
       "      <th>Tweet URL</th>\n",
       "      <th>Tweet Posted Time</th>\n",
       "      <th>Tweet Content</th>\n",
       "      <th>Tweet Type</th>\n",
       "      <th>Client</th>\n",
       "      <th>Retweets Received</th>\n",
       "      <th>Likes Received</th>\n",
       "      <th>Tweet Location</th>\n",
       "      <th>Tweet Language</th>\n",
       "      <th>User Id</th>\n",
       "      <th>Name</th>\n",
       "      <th>Username</th>\n",
       "      <th>User Bio</th>\n",
       "      <th>Verified or Non-Verified</th>\n",
       "      <th>Profile URL</th>\n",
       "      <th>User Followers</th>\n",
       "      <th>User Following</th>\n",
       "      <th>User Account Creation Date</th>\n",
       "    </tr>\n",
       "  </thead>\n",
       "  <tbody>\n",
       "    <tr>\n",
       "      <th>0</th>\n",
       "      <td>\"1434821150090031105\"</td>\n",
       "      <td>https://twitter.com/lorealindia/status/1434821...</td>\n",
       "      <td>06-Sep-2021 10:09:54</td>\n",
       "      <td>\"RT @ETBrandEquity: #Appointment | L’oréal Ind...</td>\n",
       "      <td>ReTweet</td>\n",
       "      <td>\"Twitter Web App\"</td>\n",
       "      <td>1</td>\n",
       "      <td>0</td>\n",
       "      <td>India</td>\n",
       "      <td>French</td>\n",
       "      <td>\"269681267\"</td>\n",
       "      <td>L'Oréal India</td>\n",
       "      <td>lorealindia</td>\n",
       "      <td>\"The official account for L'Oréal India. Our p...</td>\n",
       "      <td>Verified</td>\n",
       "      <td>https://twitter.com/lorealindia</td>\n",
       "      <td>1503</td>\n",
       "      <td>149</td>\n",
       "      <td>21-Mar-2011 07:58:19</td>\n",
       "    </tr>\n",
       "    <tr>\n",
       "      <th>1</th>\n",
       "      <td>\"1434799595016491009\"</td>\n",
       "      <td>https://twitter.com/ETBrandEquity/status/14347...</td>\n",
       "      <td>06-Sep-2021 08:44:15</td>\n",
       "      <td>\"#Appointment | L’oréal India appoints Gaurav ...</td>\n",
       "      <td>Tweet</td>\n",
       "      <td>\"Twitter Web App\"</td>\n",
       "      <td>1</td>\n",
       "      <td>2</td>\n",
       "      <td>Mumbai</td>\n",
       "      <td>French</td>\n",
       "      <td>\"1320311154\"</td>\n",
       "      <td>ET Brand Equity</td>\n",
       "      <td>ETBrandEquity</td>\n",
       "      <td>\"The official Twitter feed for Brand Equity, b...</td>\n",
       "      <td>Verified</td>\n",
       "      <td>https://twitter.com/ETBrandEquity</td>\n",
       "      <td>25979</td>\n",
       "      <td>11334</td>\n",
       "      <td>01-Apr-2013 13:17:57</td>\n",
       "    </tr>\n",
       "    <tr>\n",
       "      <th>2</th>\n",
       "      <td>\"1434787594034810880\"</td>\n",
       "      <td>https://twitter.com/adgully/status/14347875940...</td>\n",
       "      <td>06-Sep-2021 07:56:34</td>\n",
       "      <td>\"L’ORÉAL India appoints Gaurav Anand as Chief ...</td>\n",
       "      <td>Tweet</td>\n",
       "      <td>\"Twitter Web App\"</td>\n",
       "      <td>0</td>\n",
       "      <td>0</td>\n",
       "      <td>India</td>\n",
       "      <td>French</td>\n",
       "      <td>\"75985358\"</td>\n",
       "      <td>Adgully</td>\n",
       "      <td>adgully</td>\n",
       "      <td>\"News in the domain of Advertising, Marketing,...</td>\n",
       "      <td>Non-Verified</td>\n",
       "      <td>https://twitter.com/adgully</td>\n",
       "      <td>5877</td>\n",
       "      <td>1112</td>\n",
       "      <td>21-Sep-2009 08:20:38</td>\n",
       "    </tr>\n",
       "    <tr>\n",
       "      <th>3</th>\n",
       "      <td>\"1434765213258039297\"</td>\n",
       "      <td>https://twitter.com/FEBrandWagon/status/143476...</td>\n",
       "      <td>06-Sep-2021 06:27:38</td>\n",
       "      <td>\"L’Oréal India appoints Gaurav Anand as chief ...</td>\n",
       "      <td>Tweet</td>\n",
       "      <td>\"Twitter Web App\"</td>\n",
       "      <td>0</td>\n",
       "      <td>0</td>\n",
       "      <td>Mumbai</td>\n",
       "      <td>French</td>\n",
       "      <td>\"245719674\"</td>\n",
       "      <td>FE BrandWagon</td>\n",
       "      <td>FEBrandWagon</td>\n",
       "      <td>\"We are the advertising, marketing, and media ...</td>\n",
       "      <td>Non-Verified</td>\n",
       "      <td>https://twitter.com/FEBrandWagon</td>\n",
       "      <td>1049</td>\n",
       "      <td>422</td>\n",
       "      <td>01-Feb-2011 09:44:42</td>\n",
       "    </tr>\n",
       "    <tr>\n",
       "      <th>4</th>\n",
       "      <td>\"1434759859342356482\"</td>\n",
       "      <td>https://twitter.com/ITVNewz/status/14347598593...</td>\n",
       "      <td>06-Sep-2021 06:06:21</td>\n",
       "      <td>\"@LOrealParisIn announced the appointment of #...</td>\n",
       "      <td>Tweet</td>\n",
       "      <td>\"Twitter Web App\"</td>\n",
       "      <td>0</td>\n",
       "      <td>0</td>\n",
       "      <td>Mumbai, India</td>\n",
       "      <td>English</td>\n",
       "      <td>\"114752673\"</td>\n",
       "      <td>Indiantelevision.com</td>\n",
       "      <td>ITVNewz</td>\n",
       "      <td>\"The premier B2B website for the Indian media ...</td>\n",
       "      <td>Non-Verified</td>\n",
       "      <td>https://twitter.com/ITVNewz</td>\n",
       "      <td>7321</td>\n",
       "      <td>1850</td>\n",
       "      <td>16-Feb-2010 14:04:07</td>\n",
       "    </tr>\n",
       "  </tbody>\n",
       "</table>\n",
       "</div>"
      ],
      "text/plain": [
       "                Tweet Id                                          Tweet URL  \\\n",
       "0  \"1434821150090031105\"  https://twitter.com/lorealindia/status/1434821...   \n",
       "1  \"1434799595016491009\"  https://twitter.com/ETBrandEquity/status/14347...   \n",
       "2  \"1434787594034810880\"  https://twitter.com/adgully/status/14347875940...   \n",
       "3  \"1434765213258039297\"  https://twitter.com/FEBrandWagon/status/143476...   \n",
       "4  \"1434759859342356482\"  https://twitter.com/ITVNewz/status/14347598593...   \n",
       "\n",
       "      Tweet Posted Time                                      Tweet Content  \\\n",
       "0  06-Sep-2021 10:09:54  \"RT @ETBrandEquity: #Appointment | L’oréal Ind...   \n",
       "1  06-Sep-2021 08:44:15  \"#Appointment | L’oréal India appoints Gaurav ...   \n",
       "2  06-Sep-2021 07:56:34  \"L’ORÉAL India appoints Gaurav Anand as Chief ...   \n",
       "3  06-Sep-2021 06:27:38  \"L’Oréal India appoints Gaurav Anand as chief ...   \n",
       "4  06-Sep-2021 06:06:21  \"@LOrealParisIn announced the appointment of #...   \n",
       "\n",
       "  Tweet Type             Client  Retweets Received  Likes Received  \\\n",
       "0    ReTweet  \"Twitter Web App\"                  1               0   \n",
       "1      Tweet  \"Twitter Web App\"                  1               2   \n",
       "2      Tweet  \"Twitter Web App\"                  0               0   \n",
       "3      Tweet  \"Twitter Web App\"                  0               0   \n",
       "4      Tweet  \"Twitter Web App\"                  0               0   \n",
       "\n",
       "  Tweet Location Tweet Language       User Id                  Name  \\\n",
       "0          India         French   \"269681267\"         L'Oréal India   \n",
       "1         Mumbai         French  \"1320311154\"       ET Brand Equity   \n",
       "2          India         French    \"75985358\"               Adgully   \n",
       "3         Mumbai         French   \"245719674\"         FE BrandWagon   \n",
       "4  Mumbai, India        English   \"114752673\"  Indiantelevision.com   \n",
       "\n",
       "        Username                                           User Bio  \\\n",
       "0    lorealindia  \"The official account for L'Oréal India. Our p...   \n",
       "1  ETBrandEquity  \"The official Twitter feed for Brand Equity, b...   \n",
       "2        adgully  \"News in the domain of Advertising, Marketing,...   \n",
       "3   FEBrandWagon  \"We are the advertising, marketing, and media ...   \n",
       "4        ITVNewz  \"The premier B2B website for the Indian media ...   \n",
       "\n",
       "  Verified or Non-Verified                        Profile URL  User Followers  \\\n",
       "0                 Verified    https://twitter.com/lorealindia            1503   \n",
       "1                 Verified  https://twitter.com/ETBrandEquity           25979   \n",
       "2             Non-Verified        https://twitter.com/adgully            5877   \n",
       "3             Non-Verified   https://twitter.com/FEBrandWagon            1049   \n",
       "4             Non-Verified        https://twitter.com/ITVNewz            7321   \n",
       "\n",
       "   User Following User Account Creation Date  \n",
       "0             149       21-Mar-2011 07:58:19  \n",
       "1           11334       01-Apr-2013 13:17:57  \n",
       "2            1112       21-Sep-2009 08:20:38  \n",
       "3             422       01-Feb-2011 09:44:42  \n",
       "4            1850       16-Feb-2010 14:04:07  "
      ]
     },
     "execution_count": 4,
     "metadata": {},
     "output_type": "execute_result"
    }
   ],
   "source": [
    "df_ = pd.read_csv('C:/Users/Deepak Murugesan/Documents/jypyter notebook/Loreal Paris.csv')\n",
    "df_.head()"
   ]
  },
  {
   "cell_type": "code",
   "execution_count": 5,
   "id": "d42be8af",
   "metadata": {},
   "outputs": [
    {
     "data": {
      "text/plain": [
       "Tweet Id                      0\n",
       "Tweet URL                     0\n",
       "Tweet Posted Time             0\n",
       "Tweet Content                 0\n",
       "Tweet Type                    0\n",
       "Client                        0\n",
       "Retweets Received             0\n",
       "Likes Received                0\n",
       "Tweet Location                9\n",
       "Tweet Language                0\n",
       "User Id                       0\n",
       "Name                          0\n",
       "Username                      0\n",
       "User Bio                      0\n",
       "Verified or Non-Verified      0\n",
       "Profile URL                   0\n",
       "User Followers                0\n",
       "User Following                0\n",
       "User Account Creation Date    0\n",
       "dtype: int64"
      ]
     },
     "execution_count": 5,
     "metadata": {},
     "output_type": "execute_result"
    }
   ],
   "source": [
    "df.isnull().sum()"
   ]
  },
  {
   "cell_type": "code",
   "execution_count": 7,
   "id": "ac23ac93",
   "metadata": {},
   "outputs": [
    {
     "data": {
      "text/plain": [
       "Index(['ID', 'Dynamic Filter', 'Relationship', 'Relationship Date (UTC)',\n",
       "       'Tweet', 'URLs in Tweet', 'Domains in Tweet', 'Hashtags in Tweet',\n",
       "       'Tweet Date (UTC)', 'Twitter Page for Tweet', 'Latitude', 'Longitude',\n",
       "       'Imported ID', 'In-Reply-To Tweet ID'],\n",
       "      dtype='object')"
      ]
     },
     "execution_count": 7,
     "metadata": {},
     "output_type": "execute_result"
    }
   ],
   "source": [
    "df.columns"
   ]
  },
  {
   "cell_type": "code",
   "execution_count": 8,
   "id": "697b88a7",
   "metadata": {},
   "outputs": [
    {
     "data": {
      "text/plain": [
       "Index(['Tweet Id', 'Tweet URL', 'Tweet Posted Time', 'Tweet Content',\n",
       "       'Tweet Type', 'Client', 'Retweets Received', 'Likes Received',\n",
       "       'Tweet Location', 'Tweet Language', 'User Id', 'Name', 'Username',\n",
       "       'User Bio', 'Verified or Non-Verified', 'Profile URL', 'User Followers',\n",
       "       'User Following', 'User Account Creation Date'],\n",
       "      dtype='object')"
      ]
     },
     "execution_count": 8,
     "metadata": {},
     "output_type": "execute_result"
    }
   ],
   "source": [
    "df_.columns"
   ]
  },
  {
   "cell_type": "code",
   "execution_count": 13,
   "id": "fad65548",
   "metadata": {},
   "outputs": [
    {
     "data": {
      "text/plain": [
       "\"1432706152031264770\"    1\n",
       "\"1432408226230767616\"    1\n",
       "\"1432732281026666507\"    1\n",
       "\"1434386721907482629\"    1\n",
       "\"1432569955506024451\"    1\n",
       "\"1432647258382630915\"    1\n",
       "\"1434240246846263298\"    1\n",
       "\"1434821150090031105\"    1\n",
       "\"1434799595016491009\"    1\n",
       "\"1434765213258039297\"    1\n",
       "\"1432281181542780928\"    1\n",
       "\"1432066663457820673\"    1\n",
       "\"1434518249786408962\"    1\n",
       "\"1434196629259624450\"    1\n",
       "\"1432764026568601608\"    1\n",
       "\"1434759859342356482\"    1\n",
       "\"1434787594034810880\"    1\n",
       "\"1432674074501681158\"    1\n",
       "\"1432532841737310212\"    1\n",
       "\"1434472020536807430\"    1\n",
       "\"1432984681574662145\"    1\n",
       "Name: Tweet Id, dtype: int64"
      ]
     },
     "execution_count": 13,
     "metadata": {},
     "output_type": "execute_result"
    }
   ],
   "source": [
    "df_['Tweet Id'].value_counts()"
   ]
  },
  {
   "cell_type": "code",
   "execution_count": 14,
   "id": "cfaa3072",
   "metadata": {},
   "outputs": [
    {
     "data": {
      "text/plain": [
       "65     3\n",
       "32     3\n",
       "6      3\n",
       "25     3\n",
       "96     2\n",
       "      ..\n",
       "82     1\n",
       "83     1\n",
       "84     1\n",
       "85     1\n",
       "190    1\n",
       "Name: ID, Length: 176, dtype: int64"
      ]
     },
     "execution_count": 14,
     "metadata": {},
     "output_type": "execute_result"
    }
   ],
   "source": [
    "df['ID'].value_counts()"
   ]
  },
  {
   "cell_type": "code",
   "execution_count": 15,
   "id": "b5f9711e",
   "metadata": {},
   "outputs": [
    {
     "name": "stderr",
     "output_type": "stream",
     "text": [
      "C:\\Users\\Deepak Murugesan\\anaconda3\\lib\\site-packages\\seaborn\\_decorators.py:36: FutureWarning: Pass the following variable as a keyword arg: x. From version 0.12, the only valid positional argument will be `data`, and passing other arguments without an explicit keyword will result in an error or misinterpretation.\n",
      "  warnings.warn(\n"
     ]
    },
    {
     "data": {
      "text/plain": [
       "<AxesSubplot:xlabel='ID', ylabel='count'>"
      ]
     },
     "execution_count": 15,
     "metadata": {},
     "output_type": "execute_result"
    },
    {
     "data": {
      "image/png": "[encoded data removed]",
      "text/plain": [
       "<Figure size 720x360 with 1 Axes>"
      ]
     },
     "metadata": {},
     "output_type": "display_data"
    }
   ],
   "source": [
    "sns.set_style(\"whitegrid\")\n",
    "plt.figure(figsize=(10,5))\n",
    "sns.countplot(df['ID'])"
   ]
  },
  {
   "cell_type": "code",
   "execution_count": 17,
   "id": "15b7c93f",
   "metadata": {},
   "outputs": [
    {
     "name": "stderr",
     "output_type": "stream",
     "text": [
      "C:\\Users\\Deepak Murugesan\\anaconda3\\lib\\site-packages\\seaborn\\_decorators.py:36: FutureWarning: Pass the following variable as a keyword arg: x. From version 0.12, the only valid positional argument will be `data`, and passing other arguments without an explicit keyword will result in an error or misinterpretation.\n",
      "  warnings.warn(\n"
     ]
    },
    {
     "data": {
      "text/plain": [
       "<AxesSubplot:xlabel='Tweet Id', ylabel='count'>"
      ]
     },
     "execution_count": 17,
     "metadata": {},
     "output_type": "execute_result"
    },
    {
     "data": {
      "image/png": "[encoded data removed]",
      "text/plain": [
       "<Figure size 720x360 with 1 Axes>"
      ]
     },
     "metadata": {},
     "output_type": "display_data"
    }
   ],
   "source": [
    "sns.set_style(\"whitegrid\")\n",
    "plt.figure(figsize=(10,5))\n",
    "sns.countplot(df_['Tweet Id'])"
   ]
  },
  {
   "cell_type": "code",
   "execution_count": 18,
   "id": "b6a571c0",
   "metadata": {},
   "outputs": [],
   "source": [
    "def betweenness_centrality(G, k=None, normalized=True, weight=None,\n",
    "\t\t\t\t\t\tendpoints=False, seed=None):\n",
    "\n",
    "\t\n",
    "\tbetweenness = dict.fromkeys(G, 0.0) # b[v]=0 for v in G\n",
    "\tif k is None:\n",
    "\t\tnodes = G\n",
    "\telse:\n",
    "\t\trandom.seed(seed)\n",
    "\t\tnodes = random.sample(G.nodes(), k)\n",
    "\tfor s in nodes:\n",
    "\n",
    "\t\tif weight is None: \n",
    "\t\t\tS, P, sigma = _single_source_shortest_path_basic(G, s)\n",
    "\t\telse: \n",
    "\t\t\tS, P, sigma = _single_source_dijkstra_path_basic(G, s, weight)\n",
    "\n",
    "\n",
    "\t\tif endpoints:\n",
    "\t\t\tbetweenness = _accumulate_endpoints(betweenness, S, P, sigma, s)\n",
    "\t\telse:\n",
    "\t\t\tbetweenness = _accumulate_basic(betweenness, S, P, sigma, s)\n",
    "\n",
    "\tbetweenness = _rescale(betweenness, len(G), normalized=normalized,\n",
    "\t\t\t\t\t\tdirected=G.is_directed(), k=k)\n",
    "\treturn betweenness\n"
   ]
  },
  {
   "cell_type": "code",
   "execution_count": 1,
   "id": "c70587ca",
   "metadata": {},
   "outputs": [],
   "source": [
    "y_true = [1, 900, 2, 1, 1]\n",
    "y_pred = [1, 1, 5, 1, 1]"
   ]
  },
  {
   "cell_type": "code",
   "execution_count": 3,
   "id": "df9d6952",
   "metadata": {},
   "outputs": [
    {
     "name": "stdout",
     "output_type": "stream",
     "text": [
      "Automatically created module for IPython interactive environment\n",
      "Confusion matrix, without normalization\n",
      "[[13  0  0]\n",
      " [ 0 14  2]\n",
      " [ 0  0  9]]\n",
      "Normalized confusion matrix\n",
      "[[1.   0.   0.  ]\n",
      " [0.   0.88 0.12]\n",
      " [0.   0.   1.  ]]\n"
     ]
    },
    {
     "data": {
      "image/png": "[encoded data removed]",
      "text/plain": [
       "<Figure size 432x288 with 2 Axes>"
      ]
     },
     "metadata": {
      "needs_background": "light"
     },
     "output_type": "display_data"
    },
    {
     "data": {
      "image/png": "[encoded data removed]",
      "text/plain": [
       "<Figure size 432x288 with 2 Axes>"
      ]
     },
     "metadata": {
      "needs_background": "light"
     },
     "output_type": "display_data"
    }
   ],
   "source": [
    "print(__doc__)\n",
    "\n",
    "import numpy as np\n",
    "import matplotlib.pyplot as plt\n",
    "\n",
    "from sklearn import svm, datasets\n",
    "from sklearn.model_selection import train_test_split\n",
    "from sklearn.metrics import plot_confusion_matrix\n",
    "\n",
    "iris = datasets.load_iris()\n",
    "X = iris.data\n",
    "y = iris.target\n",
    "class_names = iris.target_names\n",
    "\n",
    "\n",
    "X_train, X_test, y_train, y_test = train_test_split(X, y, random_state=0)\n",
    "\n",
    "\n",
    "classifier = svm.SVC(kernel='linear', C=0.03).fit(X_train, y_train)\n",
    "\n",
    "np.set_printoptions(precision=2)\n",
    "\n",
    "\n",
    "titles_options = [(\"Confusion matrix, without normalization\", None),\n",
    "                  (\"Normalized confusion matrix\", 'true')]\n",
    "for title, normalize in titles_options:\n",
    "    disp = plot_confusion_matrix(classifier, X_test, y_test,\n",
    "                                 display_labels=class_names,\n",
    "                                 cmap=plt.cm.Blues,\n",
    "                                 normalize=normalize)\n",
    "    disp.ax_.set_title(title)\n",
    "\n",
    "    print(title)\n",
    "    print(disp.confusion_matrix)\n",
    "\n",
    "plt.show()"
   ]
  },
  {
   "cell_type": "code",
   "execution_count": 3,
   "id": "d859c231",
   "metadata": {},
   "outputs": [
    {
     "name": "stdout",
     "output_type": "stream",
     "text": [
      "0.9207920792079208\n"
     ]
    }
   ],
   "source": [
    "from sklearn.datasets import make_classification\n",
    "from sklearn.model_selection import train_test_split\n",
    "from sklearn.metrics import accuracy_score\n",
    "from sklearn.linear_model import Kmode\n",
    "nb_samples = 1006\n",
    "x, y = make_classification(n_samples=nb_samples, n_features=2, n_informative=2, n_redundant=0, n_clusters_per_class=1)\n",
    "xtrain, xtest, ytrain, ytest = train_test_split(x, y, test_size=0.1, random_state=46)\n",
    "model = Kmode\n",
    "model.fit(xtrain, ytrain)\n",
    "print(accuracy_score(ytest, model.predict(xtest)))"
   ]
  },
  {
   "cell_type": "code",
   "execution_count": 5,
   "id": "8e28d8eb",
   "metadata": {},
   "outputs": [
    {
     "name": "stdout",
     "output_type": "stream",
     "text": [
      "0.8514851485148515\n"
     ]
    }
   ],
   "source": [
    "from sklearn.datasets import make_classification\n",
    "from sklearn.model_selection import train_test_split\n",
    "from sklearn.metrics import accuracy_score\n",
    "from sklearn.linear_model import Nearness\n",
    "nb_samples = 1003\n",
    "x, y = make_classification(n_samples=nb_samples, n_features=2, n_informative=2, n_redundant=0, n_clusters_per_class=1)\n",
    "xtrain, xtest, ytrain, ytest = train_test_split(x, y, test_size=0.1, random_state=46)\n",
    "model = Nearness()\n",
    "model.fit(xtrain, ytrain)\n",
    "print(accuracy_score(ytest, model.predict(xtest)))"
   ]
  },
  {
   "cell_type": "code",
   "execution_count": null,
   "id": "02bcd5fa",
   "metadata": {},
   "outputs": [],
   "source": []
  }
 ],
 "metadata": {
  "kernelspec": {
   "display_name": "Python 3",
   "language": "python",
   "name": "python3"
  },
  "language_info": {
   "codemirror_mode": {
    "name": "ipython",
    "version": 3
   },
   "file_extension": ".py",
   "mimetype": "text/x-python",
   "name": "python",
   "nbconvert_exporter": "python",
   "pygments_lexer": "ipython3",
   "version": "3.8.8"
  }
 },
 "nbformat": 4,
 "nbformat_minor": 5
}
