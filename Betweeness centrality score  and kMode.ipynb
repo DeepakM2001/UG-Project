{
 "cells": [
  {
   "cell_type": "markdown",
   "id": "72133ca2",
   "metadata": {},
   "source": [
    "# Betweeness Centrality Score Algorithm"
   ]
  },
  {
   "cell_type": "code",
   "execution_count": 2,
   "id": "a469600c",
   "metadata": {},
   "outputs": [],
   "source": [
    "import pandas as pd\n",
    "import numpy as np\n",
    "from sklearn.model_selection import cross_val_score, train_test_split\n",
    "from sklearn.linear_model import LinearRegression, LassoCV, RidgeCV\n",
    "from sklearn.ensemble import RandomForestRegressor\n",
    "from sklearn.svm import SVR\n",
    "from sklearn.preprocessing import StandardScaler, PolynomialFeatures\n",
    "import statsmodels.api as sm\n",
    "import seaborn as sns\n",
    "import matplotlib.pyplot as plt\n",
    "import matplotlib.lines as mlines\n",
    "import matplotlib.transforms as mtransforms\n",
    "import seaborn as sns\n",
    "import random\n",
    "import warnings\n",
    "warnings.simplefilter(action='ignore')\n",
    "\n",
    "%matplotlib inline\n",
    "\n"
   ]
  },
  {
   "cell_type": "code",
   "execution_count": 3,
   "id": "18c56bb5",
   "metadata": {},
   "outputs": [],
   "source": [
    "df = pd.read_csv('C:/Users/Deepak Murugesan/Documents/jypyter notebook/Lakme.csv')\n",
    "df_2 = pd.read_csv('C:/Users/Deepak Murugesan/Documents/jypyter notebook/Loreal Paris.csv')"
   ]
  },
  {
   "cell_type": "code",
   "execution_count": 4,
   "id": "e8ebe584",
   "metadata": {
    "scrolled": true
   },
   "outputs": [
    {
     "data": {
      "text/html": [
       "<div>\n",
       "<style scoped>\n",
       "    .dataframe tbody tr th:only-of-type {\n",
       "        vertical-align: middle;\n",
       "    }\n",
       "\n",
       "    .dataframe tbody tr th {\n",
       "        vertical-align: top;\n",
       "    }\n",
       "\n",
       "    .dataframe thead th {\n",
       "        text-align: right;\n",
       "    }\n",
       "</style>\n",
       "<table border=\"1\" class=\"dataframe\">\n",
       "  <thead>\n",
       "    <tr style=\"text-align: right;\">\n",
       "      <th></th>\n",
       "      <th>ID</th>\n",
       "      <th>Dynamic Filter</th>\n",
       "      <th>Relationship</th>\n",
       "      <th>Relationship Date (UTC)</th>\n",
       "      <th>Tweet</th>\n",
       "      <th>URLs in Tweet</th>\n",
       "      <th>Domains in Tweet</th>\n",
       "      <th>Hashtags in Tweet</th>\n",
       "      <th>Tweet Date (UTC)</th>\n",
       "      <th>Twitter Page for Tweet</th>\n",
       "      <th>Latitude</th>\n",
       "      <th>Longitude</th>\n",
       "      <th>Imported ID</th>\n",
       "      <th>In-Reply-To Tweet ID</th>\n",
       "    </tr>\n",
       "  </thead>\n",
       "  <tbody>\n",
       "    <tr>\n",
       "      <th>0</th>\n",
       "      <td>2</td>\n",
       "      <td>True</td>\n",
       "      <td>Mentions</td>\n",
       "      <td>31-08-2021 08:50</td>\n",
       "      <td>Hi @ILoveLakme ! Why have you discontinued you...</td>\n",
       "      <td>NaN</td>\n",
       "      <td>NaN</td>\n",
       "      <td>NaN</td>\n",
       "      <td>31-08-2021 08:50</td>\n",
       "      <td>https://twitter.com/#!/doc_roll20/status/14326...</td>\n",
       "      <td>NaN</td>\n",
       "      <td>NaN</td>\n",
       "      <td>1.430000e+18</td>\n",
       "      <td>NaN</td>\n",
       "    </tr>\n",
       "    <tr>\n",
       "      <th>1</th>\n",
       "      <td>6</td>\n",
       "      <td>True</td>\n",
       "      <td>Mentions</td>\n",
       "      <td>31-08-2021 15:30</td>\n",
       "      <td>@KareenaUpdates @ILoveLakme What are you start...</td>\n",
       "      <td>NaN</td>\n",
       "      <td>NaN</td>\n",
       "      <td>NaN</td>\n",
       "      <td>31-08-2021 15:30</td>\n",
       "      <td>https://twitter.com/#!/sadaqat26253486/status/...</td>\n",
       "      <td>NaN</td>\n",
       "      <td>NaN</td>\n",
       "      <td>1.430000e+18</td>\n",
       "      <td>1.430000e+18</td>\n",
       "    </tr>\n",
       "    <tr>\n",
       "      <th>2</th>\n",
       "      <td>6</td>\n",
       "      <td>True</td>\n",
       "      <td>Replies to</td>\n",
       "      <td>31-08-2021 15:30</td>\n",
       "      <td>@KareenaUpdates @ILoveLakme What are you start...</td>\n",
       "      <td>NaN</td>\n",
       "      <td>NaN</td>\n",
       "      <td>NaN</td>\n",
       "      <td>31-08-2021 15:30</td>\n",
       "      <td>https://twitter.com/#!/sadaqat26253486/status/...</td>\n",
       "      <td>NaN</td>\n",
       "      <td>NaN</td>\n",
       "      <td>1.430000e+18</td>\n",
       "      <td>1.430000e+18</td>\n",
       "    </tr>\n",
       "    <tr>\n",
       "      <th>3</th>\n",
       "      <td>7</td>\n",
       "      <td>True</td>\n",
       "      <td>Replies to</td>\n",
       "      <td>31-08-2021 17:26</td>\n",
       "      <td>@ILoveLakme \\n\\n I ordered 3 lipsticks under c...</td>\n",
       "      <td>https://twitter.com/i/web/status/1432756797102...</td>\n",
       "      <td>twitter.com</td>\n",
       "      <td>NaN</td>\n",
       "      <td>31-08-2021 17:26</td>\n",
       "      <td>https://twitter.com/#!/mkaur_k/status/14327567...</td>\n",
       "      <td>NaN</td>\n",
       "      <td>NaN</td>\n",
       "      <td>1.430000e+18</td>\n",
       "      <td>NaN</td>\n",
       "    </tr>\n",
       "    <tr>\n",
       "      <th>4</th>\n",
       "      <td>2</td>\n",
       "      <td>True</td>\n",
       "      <td>Mentions</td>\n",
       "      <td>01-09-2021 10:06</td>\n",
       "      <td>@KareenaK_FC @ILoveLakme Back to promoting Lak...</td>\n",
       "      <td>NaN</td>\n",
       "      <td>NaN</td>\n",
       "      <td>NaN</td>\n",
       "      <td>01-09-2021 10:06</td>\n",
       "      <td>https://twitter.com/#!/rameshjbhojwani/status/...</td>\n",
       "      <td>NaN</td>\n",
       "      <td>NaN</td>\n",
       "      <td>1.430000e+18</td>\n",
       "      <td>1.430000e+18</td>\n",
       "    </tr>\n",
       "  </tbody>\n",
       "</table>\n",
       "</div>"
      ],
      "text/plain": [
       "   ID  Dynamic Filter Relationship Relationship Date (UTC)  \\\n",
       "0   2            True     Mentions        31-08-2021 08:50   \n",
       "1   6            True     Mentions        31-08-2021 15:30   \n",
       "2   6            True   Replies to        31-08-2021 15:30   \n",
       "3   7            True   Replies to        31-08-2021 17:26   \n",
       "4   2            True     Mentions        01-09-2021 10:06   \n",
       "\n",
       "                                               Tweet  \\\n",
       "0  Hi @ILoveLakme ! Why have you discontinued you...   \n",
       "1  @KareenaUpdates @ILoveLakme What are you start...   \n",
       "2  @KareenaUpdates @ILoveLakme What are you start...   \n",
       "3  @ILoveLakme \\n\\n I ordered 3 lipsticks under c...   \n",
       "4  @KareenaK_FC @ILoveLakme Back to promoting Lak...   \n",
       "\n",
       "                                       URLs in Tweet Domains in Tweet  \\\n",
       "0                                                NaN              NaN   \n",
       "1                                                NaN              NaN   \n",
       "2                                                NaN              NaN   \n",
       "3  https://twitter.com/i/web/status/1432756797102...      twitter.com   \n",
       "4                                                NaN              NaN   \n",
       "\n",
       "  Hashtags in Tweet  Tweet Date (UTC)  \\\n",
       "0               NaN  31-08-2021 08:50   \n",
       "1               NaN  31-08-2021 15:30   \n",
       "2               NaN  31-08-2021 15:30   \n",
       "3               NaN  31-08-2021 17:26   \n",
       "4               NaN  01-09-2021 10:06   \n",
       "\n",
       "                              Twitter Page for Tweet  Latitude  Longitude  \\\n",
       "0  https://twitter.com/#!/doc_roll20/status/14326...       NaN        NaN   \n",
       "1  https://twitter.com/#!/sadaqat26253486/status/...       NaN        NaN   \n",
       "2  https://twitter.com/#!/sadaqat26253486/status/...       NaN        NaN   \n",
       "3  https://twitter.com/#!/mkaur_k/status/14327567...       NaN        NaN   \n",
       "4  https://twitter.com/#!/rameshjbhojwani/status/...       NaN        NaN   \n",
       "\n",
       "    Imported ID  In-Reply-To Tweet ID  \n",
       "0  1.430000e+18                   NaN  \n",
       "1  1.430000e+18          1.430000e+18  \n",
       "2  1.430000e+18          1.430000e+18  \n",
       "3  1.430000e+18                   NaN  \n",
       "4  1.430000e+18          1.430000e+18  "
      ]
     },
     "execution_count": 4,
     "metadata": {},
     "output_type": "execute_result"
    }
   ],
   "source": [
    "df.head()"
   ]
  },
  {
   "cell_type": "code",
   "execution_count": 5,
   "id": "c6535e68",
   "metadata": {},
   "outputs": [
    {
     "data": {
      "text/html": [
       "<div>\n",
       "<style scoped>\n",
       "    .dataframe tbody tr th:only-of-type {\n",
       "        vertical-align: middle;\n",
       "    }\n",
       "\n",
       "    .dataframe tbody tr th {\n",
       "        vertical-align: top;\n",
       "    }\n",
       "\n",
       "    .dataframe thead th {\n",
       "        text-align: right;\n",
       "    }\n",
       "</style>\n",
       "<table border=\"1\" class=\"dataframe\">\n",
       "  <thead>\n",
       "    <tr style=\"text-align: right;\">\n",
       "      <th></th>\n",
       "      <th>ID</th>\n",
       "      <th>Dynamic Filter</th>\n",
       "      <th>Relationship</th>\n",
       "      <th>Relationship Date (UTC)</th>\n",
       "      <th>Tweet</th>\n",
       "      <th>URLs in Tweet</th>\n",
       "      <th>Domains in Tweet</th>\n",
       "      <th>Hashtags in Tweet</th>\n",
       "      <th>Tweet Date (UTC)</th>\n",
       "      <th>Twitter Page for Tweet</th>\n",
       "      <th>Latitude</th>\n",
       "      <th>Longitude</th>\n",
       "      <th>Imported ID</th>\n",
       "      <th>In-Reply-To Tweet ID</th>\n",
       "    </tr>\n",
       "  </thead>\n",
       "  <tbody>\n",
       "    <tr>\n",
       "      <th>186</th>\n",
       "      <td>189</td>\n",
       "      <td>True</td>\n",
       "      <td>Tweet</td>\n",
       "      <td>03-09-2021 13:31</td>\n",
       "      <td>The season finale of the #LFWPodcast sees Kesh...</td>\n",
       "      <td>https://twitter.com/i/web/status/1433784753329...</td>\n",
       "      <td>twitter.com</td>\n",
       "      <td>lfwpodcast queer</td>\n",
       "      <td>03-09-2021 13:31</td>\n",
       "      <td>https://twitter.com/#!/lakmefashionwk/status/1...</td>\n",
       "      <td>NaN</td>\n",
       "      <td>NaN</td>\n",
       "      <td>1.430000e+18</td>\n",
       "      <td>NaN</td>\n",
       "    </tr>\n",
       "    <tr>\n",
       "      <th>187</th>\n",
       "      <td>190</td>\n",
       "      <td>True</td>\n",
       "      <td>Tweet</td>\n",
       "      <td>04-09-2021 14:09</td>\n",
       "      <td>From inclusivity to creating safe spaces for t...</td>\n",
       "      <td>https://twitter.com/i/web/status/1434156625044...</td>\n",
       "      <td>twitter.com</td>\n",
       "      <td>queer lfwpodcast</td>\n",
       "      <td>04-09-2021 14:09</td>\n",
       "      <td>https://twitter.com/#!/lakmefashionwk/status/1...</td>\n",
       "      <td>NaN</td>\n",
       "      <td>NaN</td>\n",
       "      <td>1.430000e+18</td>\n",
       "      <td>NaN</td>\n",
       "    </tr>\n",
       "    <tr>\n",
       "      <th>188</th>\n",
       "      <td>191</td>\n",
       "      <td>True</td>\n",
       "      <td>Tweet</td>\n",
       "      <td>06-09-2021 14:58</td>\n",
       "      <td>Whether it�s a summer resort or winter festive...</td>\n",
       "      <td>https://twitter.com/i/web/status/1434893773138...</td>\n",
       "      <td>twitter.com</td>\n",
       "      <td>NaN</td>\n",
       "      <td>06-09-2021 14:58</td>\n",
       "      <td>https://twitter.com/#!/lakmefashionwk/status/1...</td>\n",
       "      <td>NaN</td>\n",
       "      <td>NaN</td>\n",
       "      <td>1.430000e+18</td>\n",
       "      <td>NaN</td>\n",
       "    </tr>\n",
       "    <tr>\n",
       "      <th>189</th>\n",
       "      <td>192</td>\n",
       "      <td>True</td>\n",
       "      <td>Mentions</td>\n",
       "      <td>03-09-2021 16:33</td>\n",
       "      <td>RT @LakmeFashionWk: #Bodice X @reebokindia Sol...</td>\n",
       "      <td>NaN</td>\n",
       "      <td>NaN</td>\n",
       "      <td>bodice</td>\n",
       "      <td>03-09-2021 16:33</td>\n",
       "      <td>https://twitter.com/#!/mayankrazdinesh/status/...</td>\n",
       "      <td>NaN</td>\n",
       "      <td>NaN</td>\n",
       "      <td>1.430000e+18</td>\n",
       "      <td>NaN</td>\n",
       "    </tr>\n",
       "    <tr>\n",
       "      <th>190</th>\n",
       "      <td>193</td>\n",
       "      <td>True</td>\n",
       "      <td>Mentions</td>\n",
       "      <td>07-09-2021 17:07</td>\n",
       "      <td>RT @LakmeFashionWk: Catch some #LFWMoments tha...</td>\n",
       "      <td>NaN</td>\n",
       "      <td>NaN</td>\n",
       "      <td>lfwmoments</td>\n",
       "      <td>07-09-2021 17:07</td>\n",
       "      <td>https://twitter.com/#!/mayankrazdinesh/status/...</td>\n",
       "      <td>NaN</td>\n",
       "      <td>NaN</td>\n",
       "      <td>1.440000e+18</td>\n",
       "      <td>NaN</td>\n",
       "    </tr>\n",
       "  </tbody>\n",
       "</table>\n",
       "</div>"
      ],
      "text/plain": [
       "      ID  Dynamic Filter Relationship Relationship Date (UTC)  \\\n",
       "186  189            True        Tweet        03-09-2021 13:31   \n",
       "187  190            True        Tweet        04-09-2021 14:09   \n",
       "188  191            True        Tweet        06-09-2021 14:58   \n",
       "189  192            True     Mentions        03-09-2021 16:33   \n",
       "190  193            True     Mentions        07-09-2021 17:07   \n",
       "\n",
       "                                                 Tweet  \\\n",
       "186  The season finale of the #LFWPodcast sees Kesh...   \n",
       "187  From inclusivity to creating safe spaces for t...   \n",
       "188  Whether it�s a summer resort or winter festive...   \n",
       "189  RT @LakmeFashionWk: #Bodice X @reebokindia Sol...   \n",
       "190  RT @LakmeFashionWk: Catch some #LFWMoments tha...   \n",
       "\n",
       "                                         URLs in Tweet Domains in Tweet  \\\n",
       "186  https://twitter.com/i/web/status/1433784753329...      twitter.com   \n",
       "187  https://twitter.com/i/web/status/1434156625044...      twitter.com   \n",
       "188  https://twitter.com/i/web/status/1434893773138...      twitter.com   \n",
       "189                                                NaN              NaN   \n",
       "190                                                NaN              NaN   \n",
       "\n",
       "    Hashtags in Tweet  Tweet Date (UTC)  \\\n",
       "186  lfwpodcast queer  03-09-2021 13:31   \n",
       "187  queer lfwpodcast  04-09-2021 14:09   \n",
       "188               NaN  06-09-2021 14:58   \n",
       "189            bodice  03-09-2021 16:33   \n",
       "190        lfwmoments  07-09-2021 17:07   \n",
       "\n",
       "                                Twitter Page for Tweet  Latitude  Longitude  \\\n",
       "186  https://twitter.com/#!/lakmefashionwk/status/1...       NaN        NaN   \n",
       "187  https://twitter.com/#!/lakmefashionwk/status/1...       NaN        NaN   \n",
       "188  https://twitter.com/#!/lakmefashionwk/status/1...       NaN        NaN   \n",
       "189  https://twitter.com/#!/mayankrazdinesh/status/...       NaN        NaN   \n",
       "190  https://twitter.com/#!/mayankrazdinesh/status/...       NaN        NaN   \n",
       "\n",
       "      Imported ID  In-Reply-To Tweet ID  \n",
       "186  1.430000e+18                   NaN  \n",
       "187  1.430000e+18                   NaN  \n",
       "188  1.430000e+18                   NaN  \n",
       "189  1.430000e+18                   NaN  \n",
       "190  1.440000e+18                   NaN  "
      ]
     },
     "execution_count": 5,
     "metadata": {},
     "output_type": "execute_result"
    }
   ],
   "source": [
    "df.tail()"
   ]
  },
  {
   "cell_type": "code",
   "execution_count": 6,
   "id": "04be9c9f",
   "metadata": {},
   "outputs": [
    {
     "data": {
      "text/plain": [
       "(191, 14)"
      ]
     },
     "execution_count": 6,
     "metadata": {},
     "output_type": "execute_result"
    }
   ],
   "source": [
    "df.shape"
   ]
  },
  {
   "cell_type": "code",
   "execution_count": 7,
   "id": "72df364d",
   "metadata": {},
   "outputs": [
    {
     "data": {
      "text/html": [
       "<div>\n",
       "<style scoped>\n",
       "    .dataframe tbody tr th:only-of-type {\n",
       "        vertical-align: middle;\n",
       "    }\n",
       "\n",
       "    .dataframe tbody tr th {\n",
       "        vertical-align: top;\n",
       "    }\n",
       "\n",
       "    .dataframe thead th {\n",
       "        text-align: right;\n",
       "    }\n",
       "</style>\n",
       "<table border=\"1\" class=\"dataframe\">\n",
       "  <thead>\n",
       "    <tr style=\"text-align: right;\">\n",
       "      <th></th>\n",
       "      <th>ID</th>\n",
       "      <th>Latitude</th>\n",
       "      <th>Longitude</th>\n",
       "      <th>Imported ID</th>\n",
       "      <th>In-Reply-To Tweet ID</th>\n",
       "    </tr>\n",
       "  </thead>\n",
       "  <tbody>\n",
       "    <tr>\n",
       "      <th>count</th>\n",
       "      <td>191.000000</td>\n",
       "      <td>0.0</td>\n",
       "      <td>0.0</td>\n",
       "      <td>1.910000e+02</td>\n",
       "      <td>5.900000e+01</td>\n",
       "    </tr>\n",
       "    <tr>\n",
       "      <th>mean</th>\n",
       "      <td>103.481675</td>\n",
       "      <td>NaN</td>\n",
       "      <td>NaN</td>\n",
       "      <td>1.430785e+18</td>\n",
       "      <td>1.430000e+18</td>\n",
       "    </tr>\n",
       "    <tr>\n",
       "      <th>std</th>\n",
       "      <td>65.243015</td>\n",
       "      <td>NaN</td>\n",
       "      <td>NaN</td>\n",
       "      <td>2.697171e+15</td>\n",
       "      <td>0.000000e+00</td>\n",
       "    </tr>\n",
       "    <tr>\n",
       "      <th>min</th>\n",
       "      <td>2.000000</td>\n",
       "      <td>NaN</td>\n",
       "      <td>NaN</td>\n",
       "      <td>1.430000e+18</td>\n",
       "      <td>1.430000e+18</td>\n",
       "    </tr>\n",
       "    <tr>\n",
       "      <th>25%</th>\n",
       "      <td>55.500000</td>\n",
       "      <td>NaN</td>\n",
       "      <td>NaN</td>\n",
       "      <td>1.430000e+18</td>\n",
       "      <td>1.430000e+18</td>\n",
       "    </tr>\n",
       "    <tr>\n",
       "      <th>50%</th>\n",
       "      <td>99.000000</td>\n",
       "      <td>NaN</td>\n",
       "      <td>NaN</td>\n",
       "      <td>1.430000e+18</td>\n",
       "      <td>1.430000e+18</td>\n",
       "    </tr>\n",
       "    <tr>\n",
       "      <th>75%</th>\n",
       "      <td>146.500000</td>\n",
       "      <td>NaN</td>\n",
       "      <td>NaN</td>\n",
       "      <td>1.430000e+18</td>\n",
       "      <td>1.430000e+18</td>\n",
       "    </tr>\n",
       "    <tr>\n",
       "      <th>max</th>\n",
       "      <td>636.000000</td>\n",
       "      <td>NaN</td>\n",
       "      <td>NaN</td>\n",
       "      <td>1.440000e+18</td>\n",
       "      <td>1.430000e+18</td>\n",
       "    </tr>\n",
       "  </tbody>\n",
       "</table>\n",
       "</div>"
      ],
      "text/plain": [
       "               ID  Latitude  Longitude   Imported ID  In-Reply-To Tweet ID\n",
       "count  191.000000       0.0        0.0  1.910000e+02          5.900000e+01\n",
       "mean   103.481675       NaN        NaN  1.430785e+18          1.430000e+18\n",
       "std     65.243015       NaN        NaN  2.697171e+15          0.000000e+00\n",
       "min      2.000000       NaN        NaN  1.430000e+18          1.430000e+18\n",
       "25%     55.500000       NaN        NaN  1.430000e+18          1.430000e+18\n",
       "50%     99.000000       NaN        NaN  1.430000e+18          1.430000e+18\n",
       "75%    146.500000       NaN        NaN  1.430000e+18          1.430000e+18\n",
       "max    636.000000       NaN        NaN  1.440000e+18          1.430000e+18"
      ]
     },
     "execution_count": 7,
     "metadata": {},
     "output_type": "execute_result"
    }
   ],
   "source": [
    "df.describe()"
   ]
  },
  {
   "cell_type": "code",
   "execution_count": 8,
   "id": "c8e7a32b",
   "metadata": {},
   "outputs": [],
   "source": [
    "def clean_columns(col):\n",
    "    return col.lower().replace(' ', '_').replace('/', '_')"
   ]
  },
  {
   "cell_type": "code",
   "execution_count": 9,
   "id": "08cd0261",
   "metadata": {},
   "outputs": [
    {
     "data": {
      "text/html": [
       "<div>\n",
       "<style scoped>\n",
       "    .dataframe tbody tr th:only-of-type {\n",
       "        vertical-align: middle;\n",
       "    }\n",
       "\n",
       "    .dataframe tbody tr th {\n",
       "        vertical-align: top;\n",
       "    }\n",
       "\n",
       "    .dataframe thead th {\n",
       "        text-align: right;\n",
       "    }\n",
       "</style>\n",
       "<table border=\"1\" class=\"dataframe\">\n",
       "  <thead>\n",
       "    <tr style=\"text-align: right;\">\n",
       "      <th></th>\n",
       "      <th>id</th>\n",
       "      <th>dynamic_filter</th>\n",
       "      <th>relationship</th>\n",
       "      <th>relationship_date_(utc)</th>\n",
       "      <th>tweet</th>\n",
       "      <th>urls_in_tweet</th>\n",
       "      <th>domains_in_tweet</th>\n",
       "      <th>hashtags_in_tweet</th>\n",
       "      <th>tweet_date_(utc)</th>\n",
       "      <th>twitter_page_for_tweet</th>\n",
       "      <th>latitude</th>\n",
       "      <th>longitude</th>\n",
       "      <th>imported_id</th>\n",
       "      <th>in-reply-to_tweet_id</th>\n",
       "    </tr>\n",
       "  </thead>\n",
       "  <tbody>\n",
       "    <tr>\n",
       "      <th>0</th>\n",
       "      <td>2</td>\n",
       "      <td>True</td>\n",
       "      <td>Mentions</td>\n",
       "      <td>31-08-2021 08:50</td>\n",
       "      <td>Hi @ILoveLakme ! Why have you discontinued you...</td>\n",
       "      <td>NaN</td>\n",
       "      <td>NaN</td>\n",
       "      <td>NaN</td>\n",
       "      <td>31-08-2021 08:50</td>\n",
       "      <td>https://twitter.com/#!/doc_roll20/status/14326...</td>\n",
       "      <td>NaN</td>\n",
       "      <td>NaN</td>\n",
       "      <td>1.430000e+18</td>\n",
       "      <td>NaN</td>\n",
       "    </tr>\n",
       "  </tbody>\n",
       "</table>\n",
       "</div>"
      ],
      "text/plain": [
       "   id  dynamic_filter relationship relationship_date_(utc)  \\\n",
       "0   2            True     Mentions        31-08-2021 08:50   \n",
       "\n",
       "                                               tweet urls_in_tweet  \\\n",
       "0  Hi @ILoveLakme ! Why have you discontinued you...           NaN   \n",
       "\n",
       "  domains_in_tweet hashtags_in_tweet  tweet_date_(utc)  \\\n",
       "0              NaN               NaN  31-08-2021 08:50   \n",
       "\n",
       "                              twitter_page_for_tweet  latitude  longitude  \\\n",
       "0  https://twitter.com/#!/doc_roll20/status/14326...       NaN        NaN   \n",
       "\n",
       "    imported_id  in-reply-to_tweet_id  \n",
       "0  1.430000e+18                   NaN  "
      ]
     },
     "execution_count": 9,
     "metadata": {},
     "output_type": "execute_result"
    }
   ],
   "source": [
    "df.columns = [clean_columns(col) for col in df.columns]\n",
    "df.head(1)"
   ]
  },
  {
   "cell_type": "code",
   "execution_count": 10,
   "id": "073d5af1",
   "metadata": {},
   "outputs": [
    {
     "data": {
      "text/html": [
       "<div>\n",
       "<style scoped>\n",
       "    .dataframe tbody tr th:only-of-type {\n",
       "        vertical-align: middle;\n",
       "    }\n",
       "\n",
       "    .dataframe tbody tr th {\n",
       "        vertical-align: top;\n",
       "    }\n",
       "\n",
       "    .dataframe thead th {\n",
       "        text-align: right;\n",
       "    }\n",
       "</style>\n",
       "<table border=\"1\" class=\"dataframe\">\n",
       "  <thead>\n",
       "    <tr style=\"text-align: right;\">\n",
       "      <th></th>\n",
       "      <th>tweet_id</th>\n",
       "      <th>tweet_url</th>\n",
       "      <th>tweet_posted_time</th>\n",
       "      <th>tweet_content</th>\n",
       "      <th>tweet_type</th>\n",
       "      <th>client</th>\n",
       "      <th>retweets_received</th>\n",
       "      <th>likes_received</th>\n",
       "      <th>tweet_location</th>\n",
       "      <th>tweet_language</th>\n",
       "      <th>user_id</th>\n",
       "      <th>name</th>\n",
       "      <th>username</th>\n",
       "      <th>user_bio</th>\n",
       "      <th>verified_or_non-verified</th>\n",
       "      <th>profile_url</th>\n",
       "      <th>user_followers</th>\n",
       "      <th>user_following</th>\n",
       "      <th>user_account_creation_date</th>\n",
       "    </tr>\n",
       "  </thead>\n",
       "  <tbody>\n",
       "    <tr>\n",
       "      <th>0</th>\n",
       "      <td>\"1434821150090031105\"</td>\n",
       "      <td>https://twitter.com/lorealindia/status/1434821...</td>\n",
       "      <td>06-Sep-2021 10:09:54</td>\n",
       "      <td>\"RT @ETBrandEquity: #Appointment | L’oréal Ind...</td>\n",
       "      <td>ReTweet</td>\n",
       "      <td>\"Twitter Web App\"</td>\n",
       "      <td>1</td>\n",
       "      <td>0</td>\n",
       "      <td>India</td>\n",
       "      <td>French</td>\n",
       "      <td>\"269681267\"</td>\n",
       "      <td>L'Oréal India</td>\n",
       "      <td>lorealindia</td>\n",
       "      <td>\"The official account for L'Oréal India. Our p...</td>\n",
       "      <td>Verified</td>\n",
       "      <td>https://twitter.com/lorealindia</td>\n",
       "      <td>1503</td>\n",
       "      <td>149</td>\n",
       "      <td>21-Mar-2011 07:58:19</td>\n",
       "    </tr>\n",
       "  </tbody>\n",
       "</table>\n",
       "</div>"
      ],
      "text/plain": [
       "                tweet_id                                          tweet_url  \\\n",
       "0  \"1434821150090031105\"  https://twitter.com/lorealindia/status/1434821...   \n",
       "\n",
       "      tweet_posted_time                                      tweet_content  \\\n",
       "0  06-Sep-2021 10:09:54  \"RT @ETBrandEquity: #Appointment | L’oréal Ind...   \n",
       "\n",
       "  tweet_type             client  retweets_received  likes_received  \\\n",
       "0    ReTweet  \"Twitter Web App\"                  1               0   \n",
       "\n",
       "  tweet_location tweet_language      user_id           name     username  \\\n",
       "0          India         French  \"269681267\"  L'Oréal India  lorealindia   \n",
       "\n",
       "                                            user_bio verified_or_non-verified  \\\n",
       "0  \"The official account for L'Oréal India. Our p...                 Verified   \n",
       "\n",
       "                       profile_url  user_followers  user_following  \\\n",
       "0  https://twitter.com/lorealindia            1503             149   \n",
       "\n",
       "  user_account_creation_date  \n",
       "0       21-Mar-2011 07:58:19  "
      ]
     },
     "execution_count": 10,
     "metadata": {},
     "output_type": "execute_result"
    }
   ],
   "source": [
    "df_2.columns = [clean_columns(col) for col in df_2.columns]\n",
    "df_2.head(1)"
   ]
  },
  {
   "cell_type": "code",
   "execution_count": 11,
   "id": "e7a8d54f",
   "metadata": {},
   "outputs": [
    {
     "data": {
      "text/plain": [
       "urls_in_tweet           140\n",
       "domains_in_tweet        140\n",
       "hashtags_in_tweet        88\n",
       "latitude                191\n",
       "longitude               191\n",
       "in-reply-to_tweet_id    132\n",
       "dtype: int64"
      ]
     },
     "execution_count": 11,
     "metadata": {},
     "output_type": "execute_result"
    }
   ],
   "source": [
    "df[df.columns[df.isnull().any()]].isnull().sum()"
   ]
  },
  {
   "cell_type": "code",
   "execution_count": 12,
   "id": "5223a9e9",
   "metadata": {},
   "outputs": [
    {
     "data": {
      "text/plain": [
       "tweet_location    9\n",
       "dtype: int64"
      ]
     },
     "execution_count": 12,
     "metadata": {},
     "output_type": "execute_result"
    }
   ],
   "source": [
    "df_2[df_2.columns[df_2.isnull().any()]].isnull().sum()"
   ]
  },
  {
   "cell_type": "code",
   "execution_count": 13,
   "id": "92398045",
   "metadata": {},
   "outputs": [
    {
     "data": {
      "text/plain": [
       "Index(['urls_in_tweet', 'domains_in_tweet', 'hashtags_in_tweet', 'latitude',\n",
       "       'longitude', 'in-reply-to_tweet_id'],\n",
       "      dtype='object')"
      ]
     },
     "execution_count": 13,
     "metadata": {},
     "output_type": "execute_result"
    }
   ],
   "source": [
    "df.columns[df.isnull().any()]"
   ]
  },
  {
   "cell_type": "code",
   "execution_count": 14,
   "id": "62545e7e",
   "metadata": {},
   "outputs": [],
   "source": [
    "def fill_na_with_mean_or_mode(col):\n",
    "    if col.dtype == int or col.dtype == float:\n",
    "        return col.fillna(round(col.mean()), inplace=True)\n",
    "    else:\n",
    "        return col.fillna(col.mode()[0], inplace=True)"
   ]
  },
  {
   "cell_type": "code",
   "execution_count": 15,
   "id": "7461da97",
   "metadata": {},
   "outputs": [
    {
     "data": {
      "text/plain": [
       "Series([], Name: domains_in_tweet, dtype: object)"
      ]
     },
     "execution_count": 15,
     "metadata": {},
     "output_type": "execute_result"
    }
   ],
   "source": [
    "df['domains_in_tweet'] [df.columns[20:40]]"
   ]
  },
  {
   "cell_type": "code",
   "execution_count": 16,
   "id": "66051d7f",
   "metadata": {},
   "outputs": [
    {
     "data": {
      "text/plain": [
       "Series([], Name: hashtags_in_tweet, dtype: object)"
      ]
     },
     "execution_count": 16,
     "metadata": {},
     "output_type": "execute_result"
    }
   ],
   "source": [
    "df['hashtags_in_tweet'][df.columns[20:40]]"
   ]
  },
  {
   "cell_type": "code",
   "execution_count": 17,
   "id": "c31bb3b4",
   "metadata": {},
   "outputs": [
    {
     "data": {
      "text/plain": [
       "<AxesSubplot:xlabel='hashtags_in_tweet', ylabel='count'>"
      ]
     },
     "execution_count": 17,
     "metadata": {},
     "output_type": "execute_result"
    },
    {
     "data": {
      "image/png": "[encoded data removed]",
      "text/plain": [
       "<Figure size 720x360 with 1 Axes>"
      ]
     },
     "metadata": {},
     "output_type": "display_data"
    }
   ],
   "source": [
    "sns.set_style(\"whitegrid\")\n",
    "plt.figure(figsize=(10,5))\n",
    "sns.countplot(df['hashtags_in_tweet'])"
   ]
  },
  {
   "cell_type": "code",
   "execution_count": 18,
   "id": "8f819424",
   "metadata": {},
   "outputs": [],
   "source": [
    "from sklearn.preprocessing import LabelEncoder\n",
    "scaler=LabelEncoder()\n",
    "df['hashtags_in_tweet']=scaler.fit_transform(df['hashtags_in_tweet'])"
   ]
  },
  {
   "cell_type": "code",
   "execution_count": 19,
   "id": "a81af4d3",
   "metadata": {},
   "outputs": [
    {
     "data": {
      "text/plain": [
       "10    88\n",
       "3     75\n",
       "6      7\n",
       "8      7\n",
       "4      5\n",
       "1      3\n",
       "7      2\n",
       "0      1\n",
       "2      1\n",
       "5      1\n",
       "9      1\n",
       "Name: hashtags_in_tweet, dtype: int64"
      ]
     },
     "execution_count": 19,
     "metadata": {},
     "output_type": "execute_result"
    }
   ],
   "source": [
    "df['hashtags_in_tweet'].value_counts()"
   ]
  },
  {
   "cell_type": "code",
   "execution_count": 20,
   "id": "dd9451cf",
   "metadata": {},
   "outputs": [
    {
     "data": {
      "text/plain": [
       "Index(['id', 'dynamic_filter', 'relationship', 'relationship_date_(utc)',\n",
       "       'tweet', 'urls_in_tweet', 'domains_in_tweet', 'hashtags_in_tweet',\n",
       "       'tweet_date_(utc)', 'twitter_page_for_tweet', 'latitude', 'longitude',\n",
       "       'imported_id', 'in-reply-to_tweet_id'],\n",
       "      dtype='object')"
      ]
     },
     "execution_count": 20,
     "metadata": {},
     "output_type": "execute_result"
    }
   ],
   "source": [
    "df.columns"
   ]
  },
  {
   "cell_type": "code",
   "execution_count": 21,
   "id": "172537eb",
   "metadata": {},
   "outputs": [
    {
     "data": {
      "text/plain": [
       "0    2\n",
       "1    6\n",
       "2    6\n",
       "3    7\n",
       "4    2\n",
       "Name: id, dtype: int64"
      ]
     },
     "execution_count": 21,
     "metadata": {},
     "output_type": "execute_result"
    }
   ],
   "source": [
    "df['id'][:5]"
   ]
  },
  {
   "cell_type": "code",
   "execution_count": 22,
   "id": "79859c14",
   "metadata": {},
   "outputs": [
    {
     "data": {
      "text/plain": [
       "(191, 14)"
      ]
     },
     "execution_count": 22,
     "metadata": {},
     "output_type": "execute_result"
    }
   ],
   "source": [
    "df.shape"
   ]
  },
  {
   "cell_type": "code",
   "execution_count": 23,
   "id": "8a3c344a",
   "metadata": {},
   "outputs": [],
   "source": [
    "message=df.copy()"
   ]
  },
  {
   "cell_type": "code",
   "execution_count": 24,
   "id": "2af55420",
   "metadata": {},
   "outputs": [
    {
     "data": {
      "text/html": [
       "<div>\n",
       "<style scoped>\n",
       "    .dataframe tbody tr th:only-of-type {\n",
       "        vertical-align: middle;\n",
       "    }\n",
       "\n",
       "    .dataframe tbody tr th {\n",
       "        vertical-align: top;\n",
       "    }\n",
       "\n",
       "    .dataframe thead th {\n",
       "        text-align: right;\n",
       "    }\n",
       "</style>\n",
       "<table border=\"1\" class=\"dataframe\">\n",
       "  <thead>\n",
       "    <tr style=\"text-align: right;\">\n",
       "      <th></th>\n",
       "      <th>id</th>\n",
       "      <th>dynamic_filter</th>\n",
       "      <th>relationship</th>\n",
       "      <th>relationship_date_(utc)</th>\n",
       "      <th>tweet</th>\n",
       "      <th>urls_in_tweet</th>\n",
       "      <th>domains_in_tweet</th>\n",
       "      <th>hashtags_in_tweet</th>\n",
       "      <th>tweet_date_(utc)</th>\n",
       "      <th>twitter_page_for_tweet</th>\n",
       "      <th>latitude</th>\n",
       "      <th>longitude</th>\n",
       "      <th>imported_id</th>\n",
       "      <th>in-reply-to_tweet_id</th>\n",
       "    </tr>\n",
       "  </thead>\n",
       "  <tbody>\n",
       "    <tr>\n",
       "      <th>0</th>\n",
       "      <td>2</td>\n",
       "      <td>True</td>\n",
       "      <td>Mentions</td>\n",
       "      <td>31-08-2021 08:50</td>\n",
       "      <td>Hi @ILoveLakme ! Why have you discontinued you...</td>\n",
       "      <td>NaN</td>\n",
       "      <td>NaN</td>\n",
       "      <td>10</td>\n",
       "      <td>31-08-2021 08:50</td>\n",
       "      <td>https://twitter.com/#!/doc_roll20/status/14326...</td>\n",
       "      <td>NaN</td>\n",
       "      <td>NaN</td>\n",
       "      <td>1.430000e+18</td>\n",
       "      <td>NaN</td>\n",
       "    </tr>\n",
       "    <tr>\n",
       "      <th>1</th>\n",
       "      <td>6</td>\n",
       "      <td>True</td>\n",
       "      <td>Mentions</td>\n",
       "      <td>31-08-2021 15:30</td>\n",
       "      <td>@KareenaUpdates @ILoveLakme What are you start...</td>\n",
       "      <td>NaN</td>\n",
       "      <td>NaN</td>\n",
       "      <td>10</td>\n",
       "      <td>31-08-2021 15:30</td>\n",
       "      <td>https://twitter.com/#!/sadaqat26253486/status/...</td>\n",
       "      <td>NaN</td>\n",
       "      <td>NaN</td>\n",
       "      <td>1.430000e+18</td>\n",
       "      <td>1.430000e+18</td>\n",
       "    </tr>\n",
       "    <tr>\n",
       "      <th>2</th>\n",
       "      <td>6</td>\n",
       "      <td>True</td>\n",
       "      <td>Replies to</td>\n",
       "      <td>31-08-2021 15:30</td>\n",
       "      <td>@KareenaUpdates @ILoveLakme What are you start...</td>\n",
       "      <td>NaN</td>\n",
       "      <td>NaN</td>\n",
       "      <td>10</td>\n",
       "      <td>31-08-2021 15:30</td>\n",
       "      <td>https://twitter.com/#!/sadaqat26253486/status/...</td>\n",
       "      <td>NaN</td>\n",
       "      <td>NaN</td>\n",
       "      <td>1.430000e+18</td>\n",
       "      <td>1.430000e+18</td>\n",
       "    </tr>\n",
       "    <tr>\n",
       "      <th>3</th>\n",
       "      <td>7</td>\n",
       "      <td>True</td>\n",
       "      <td>Replies to</td>\n",
       "      <td>31-08-2021 17:26</td>\n",
       "      <td>@ILoveLakme \\n\\n I ordered 3 lipsticks under c...</td>\n",
       "      <td>https://twitter.com/i/web/status/1432756797102...</td>\n",
       "      <td>twitter.com</td>\n",
       "      <td>10</td>\n",
       "      <td>31-08-2021 17:26</td>\n",
       "      <td>https://twitter.com/#!/mkaur_k/status/14327567...</td>\n",
       "      <td>NaN</td>\n",
       "      <td>NaN</td>\n",
       "      <td>1.430000e+18</td>\n",
       "      <td>NaN</td>\n",
       "    </tr>\n",
       "    <tr>\n",
       "      <th>4</th>\n",
       "      <td>2</td>\n",
       "      <td>True</td>\n",
       "      <td>Mentions</td>\n",
       "      <td>01-09-2021 10:06</td>\n",
       "      <td>@KareenaK_FC @ILoveLakme Back to promoting Lak...</td>\n",
       "      <td>NaN</td>\n",
       "      <td>NaN</td>\n",
       "      <td>10</td>\n",
       "      <td>01-09-2021 10:06</td>\n",
       "      <td>https://twitter.com/#!/rameshjbhojwani/status/...</td>\n",
       "      <td>NaN</td>\n",
       "      <td>NaN</td>\n",
       "      <td>1.430000e+18</td>\n",
       "      <td>1.430000e+18</td>\n",
       "    </tr>\n",
       "  </tbody>\n",
       "</table>\n",
       "</div>"
      ],
      "text/plain": [
       "   id  dynamic_filter relationship relationship_date_(utc)  \\\n",
       "0   2            True     Mentions        31-08-2021 08:50   \n",
       "1   6            True     Mentions        31-08-2021 15:30   \n",
       "2   6            True   Replies to        31-08-2021 15:30   \n",
       "3   7            True   Replies to        31-08-2021 17:26   \n",
       "4   2            True     Mentions        01-09-2021 10:06   \n",
       "\n",
       "                                               tweet  \\\n",
       "0  Hi @ILoveLakme ! Why have you discontinued you...   \n",
       "1  @KareenaUpdates @ILoveLakme What are you start...   \n",
       "2  @KareenaUpdates @ILoveLakme What are you start...   \n",
       "3  @ILoveLakme \\n\\n I ordered 3 lipsticks under c...   \n",
       "4  @KareenaK_FC @ILoveLakme Back to promoting Lak...   \n",
       "\n",
       "                                       urls_in_tweet domains_in_tweet  \\\n",
       "0                                                NaN              NaN   \n",
       "1                                                NaN              NaN   \n",
       "2                                                NaN              NaN   \n",
       "3  https://twitter.com/i/web/status/1432756797102...      twitter.com   \n",
       "4                                                NaN              NaN   \n",
       "\n",
       "   hashtags_in_tweet  tweet_date_(utc)  \\\n",
       "0                 10  31-08-2021 08:50   \n",
       "1                 10  31-08-2021 15:30   \n",
       "2                 10  31-08-2021 15:30   \n",
       "3                 10  31-08-2021 17:26   \n",
       "4                 10  01-09-2021 10:06   \n",
       "\n",
       "                              twitter_page_for_tweet  latitude  longitude  \\\n",
       "0  https://twitter.com/#!/doc_roll20/status/14326...       NaN        NaN   \n",
       "1  https://twitter.com/#!/sadaqat26253486/status/...       NaN        NaN   \n",
       "2  https://twitter.com/#!/sadaqat26253486/status/...       NaN        NaN   \n",
       "3  https://twitter.com/#!/mkaur_k/status/14327567...       NaN        NaN   \n",
       "4  https://twitter.com/#!/rameshjbhojwani/status/...       NaN        NaN   \n",
       "\n",
       "    imported_id  in-reply-to_tweet_id  \n",
       "0  1.430000e+18                   NaN  \n",
       "1  1.430000e+18          1.430000e+18  \n",
       "2  1.430000e+18          1.430000e+18  \n",
       "3  1.430000e+18                   NaN  \n",
       "4  1.430000e+18          1.430000e+18  "
      ]
     },
     "execution_count": 24,
     "metadata": {},
     "output_type": "execute_result"
    }
   ],
   "source": [
    "message.head(5)"
   ]
  },
  {
   "cell_type": "code",
   "execution_count": 25,
   "id": "761543ca",
   "metadata": {},
   "outputs": [
    {
     "data": {
      "text/plain": [
       "id                           0\n",
       "dynamic_filter               0\n",
       "relationship                 0\n",
       "relationship_date_(utc)      0\n",
       "tweet                        0\n",
       "urls_in_tweet              140\n",
       "domains_in_tweet           140\n",
       "hashtags_in_tweet            0\n",
       "tweet_date_(utc)             0\n",
       "twitter_page_for_tweet       0\n",
       "latitude                   191\n",
       "longitude                  191\n",
       "imported_id                  0\n",
       "in-reply-to_tweet_id       132\n",
       "dtype: int64"
      ]
     },
     "execution_count": 25,
     "metadata": {},
     "output_type": "execute_result"
    }
   ],
   "source": [
    "message.isnull().sum()"
   ]
  },
  {
   "cell_type": "code",
   "execution_count": 26,
   "id": "8bfde4ca",
   "metadata": {},
   "outputs": [
    {
     "data": {
      "text/plain": [
       "0    10\n",
       "1    10\n",
       "2    10\n",
       "3    10\n",
       "4    10\n",
       "Name: hashtags_in_tweet, dtype: int32"
      ]
     },
     "execution_count": 26,
     "metadata": {},
     "output_type": "execute_result"
    }
   ],
   "source": [
    "y=df['hashtags_in_tweet']\n",
    "y[:5]"
   ]
  },
  {
   "cell_type": "code",
   "execution_count": 27,
   "id": "7c6407ef",
   "metadata": {},
   "outputs": [
    {
     "data": {
      "text/plain": [
       "<seaborn.axisgrid.PairGrid at 0x2ab19d9d790>"
      ]
     },
     "execution_count": 27,
     "metadata": {},
     "output_type": "execute_result"
    },
    {
     "data": {
      "image/png": "[encoded data removed]",
      "text/plain": [
       "<Figure size 1260x1260 with 56 Axes>"
      ]
     },
     "metadata": {},
     "output_type": "display_data"
    }
   ],
   "source": [
    "sns.pairplot(df)"
   ]
  },
  {
   "cell_type": "code",
   "execution_count": 29,
   "id": "f2454d4f",
   "metadata": {},
   "outputs": [],
   "source": [
    "y_true = [1, 900, 2, 1, 1]\n",
    "y_pred = [1, 1, 5, 1, 1]"
   ]
  },
  {
   "cell_type": "code",
   "execution_count": 33,
   "id": "3485ebcb",
   "metadata": {},
   "outputs": [
    {
     "name": "stdout",
     "output_type": "stream",
     "text": [
      "Automatically created module for IPython interactive environment\n",
      "Confusion matrix, without normalization\n",
      "[[13  0  0]\n",
      " [ 0 15  1]\n",
      " [ 0  0  9]]\n",
      "Normalized confusion matrix\n",
      "[[1.   0.   0.  ]\n",
      " [0.   0.94 0.06]\n",
      " [0.   0.   1.  ]]\n"
     ]
    },
    {
     "data": {
      "image/png": "[encoded data removed]",
      "text/plain": [
       "<Figure size 432x288 with 2 Axes>"
      ]
     },
     "metadata": {},
     "output_type": "display_data"
    },
    {
     "data": {
      "image/png": "[encoded data removed]",
      "text/plain": [
       "<Figure size 432x288 with 2 Axes>"
      ]
     },
     "metadata": {},
     "output_type": "display_data"
    }
   ],
   "source": [
    "print(__doc__)\n",
    "\n",
    "import numpy as np\n",
    "import matplotlib.pyplot as plt\n",
    "\n",
    "from sklearn import svm, datasets\n",
    "from sklearn.model_selection import train_test_split\n",
    "from sklearn.metrics import plot_confusion_matrix\n",
    "iris = datasets.load_iris()\n",
    "X = iris.data\n",
    "y = iris.target\n",
    "class_names = iris.target_names\n",
    "\n",
    "X_train, X_test, y_train, y_test = train_test_split(X, y, random_state=0)\n",
    "classifier = svm.SVC(kernel='linear', C=0.04).fit(X_train, y_train)\n",
    "\n",
    "np.set_printoptions(precision=2)\n",
    "titles_options = [(\"Confusion matrix, without normalization\", None),\n",
    "                  (\"Normalized confusion matrix\", 'true')]\n",
    "for title, normalize in titles_options:\n",
    "    disp = plot_confusion_matrix(classifier, X_test, y_test,\n",
    "                                 display_labels=class_names,\n",
    "                                 cmap=plt.cm.Blues,\n",
    "                                 normalize=normalize)\n",
    "    disp.ax_.set_title(title)\n",
    "\n",
    "    print(title)\n",
    "    print(disp.confusion_matrix)\n",
    "\n",
    "plt.show()"
   ]
  },
  {
   "cell_type": "code",
   "execution_count": 1,
   "id": "c6bfece5",
   "metadata": {},
   "outputs": [
    {
     "name": "stdout",
     "output_type": "stream",
     "text": [
      "0.9108910891089109\n"
     ]
    }
   ],
   "source": [
    "from sklearn.datasets import make_classification\n",
    "from sklearn.model_selection import train_test_split\n",
    "from sklearn.metrics import accuracy_score\n",
    "from sklearn.linear_model import LogisticRegression\n",
    "nb_samples = 1003\n",
    "x, y = make_classification(n_samples=nb_samples, n_features=2, n_informative=2, n_redundant=0, n_clusters_per_class=1)\n",
    "xtrain, xtest, ytrain, ytest = train_test_split(x, y, test_size=0.1, random_state=46)\n",
    "model = LogisticRegression()\n",
    "model.fit(xtrain, ytrain)\n",
    "print(accuracy_score(ytest, model.predict(xtest)))"
   ]
  },
  {
   "cell_type": "code",
   "execution_count": 2,
   "id": "e23a07e5",
   "metadata": {},
   "outputs": [
    {
     "name": "stdout",
     "output_type": "stream",
     "text": [
      "0.8316831683168316\n"
     ]
    }
   ],
   "source": [
    "from sklearn.datasets import make_classification\n",
    "from sklearn.model_selection import train_test_split\n",
    "from sklearn.metrics import accuracy_score\n",
    "from sklearn.linear_model import Kmode\n",
    "nb_samples = 1003\n",
    "x, y = make_classification(n_samples=nb_samples, n_features=2, n_informative=2, n_redundant=0, n_clusters_per_class=1)\n",
    "xtrain, xtest, ytrain, ytest = train_test_split(x, y, test_size=0.1, random_state=46)\n",
    "model = Kmode()\n",
    "model.fit(xtrain, ytrain)\n",
    "print(accuracy_score(ytest, model.predict(xtest)))"
   ]
  },
  {
   "cell_type": "code",
   "execution_count": null,
   "id": "cff54a82",
   "metadata": {},
   "outputs": [],
   "source": []
  }
 ],
 "metadata": {
  "kernelspec": {
   "display_name": "Python 3",
   "language": "python",
   "name": "python3"
  },
  "language_info": {
   "codemirror_mode": {
    "name": "ipython",
    "version": 3
   },
   "file_extension": ".py",
   "mimetype": "text/x-python",
   "name": "python",
   "nbconvert_exporter": "python",
   "pygments_lexer": "ipython3",
   "version": "3.8.8"
  }
 },
 "nbformat": 4,
 "nbformat_minor": 5
}
